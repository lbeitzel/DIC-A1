{
 "cells": [
  {
   "cell_type": "code",
   "execution_count": 2,
   "metadata": {},
   "outputs": [],
   "source": [
    "# -*- coding: utf-8 -*-\n",
    "\"\"\"\n",
    "Predicitve_Analytics.py\n",
    "\"\"\"\n",
    "import numpy as np\n",
    "import pandas as pd\n",
    "\n",
    "df=pd.read_csv('data.csv')"
   ]
  },
  {
   "cell_type": "code",
   "execution_count": 3,
   "metadata": {},
   "outputs": [],
   "source": [
    "data = df.to_numpy()\n",
    "training_ind = np.random.rand(len(data)) <= 0.8\n",
    "training = data[training_ind]\n",
    "testing = data[~training_ind]\n",
    "X_train = training[0:32734, 0:48]\n",
    "Y_train = training[0:32734, 48:49]\n",
    "Y_train = Y_train.flatten()\n",
    "X_test = testing[0:8222, 0:48]\n",
    "Y_test = testing[0:8222, 48:49]\n",
    "Y_test = Y_test.flatten()\n",
    "\n",
    "#k = 5\n",
    "#print(KNN(X_train, X_test, Y_train, k))"
   ]
  },
  {
   "cell_type": "code",
   "execution_count": null,
   "metadata": {},
   "outputs": [],
   "source": []
  },
  {
   "cell_type": "code",
   "execution_count": 4,
   "metadata": {},
   "outputs": [],
   "source": [
    "def Accuracy(y_true,y_pred):\n",
    "    \"\"\"\n",
    "    :type y_true: numpy.ndarray\n",
    "    :type y_pred: numpy.ndarray\n",
    "    :rtype: float\n",
    "    \n",
    "    \"\"\""
   ]
  },
  {
   "cell_type": "code",
   "execution_count": 5,
   "metadata": {},
   "outputs": [],
   "source": [
    "def Recall(y_true,y_pred):\n",
    "     \"\"\"\n",
    "    :type y_true: numpy.ndarray\n",
    "    :type y_pred: numpy.ndarray\n",
    "    :rtype: float\n",
    "    \"\"\""
   ]
  },
  {
   "cell_type": "code",
   "execution_count": 6,
   "metadata": {},
   "outputs": [],
   "source": [
    "def Precision(y_true,y_pred):\n",
    "    \"\"\"\n",
    "    :type y_true: numpy.ndarray\n",
    "    :type y_pred: numpy.ndarray\n",
    "    :rtype: float\n",
    "    \"\"\""
   ]
  },
  {
   "cell_type": "code",
   "execution_count": 7,
   "metadata": {},
   "outputs": [],
   "source": [
    "def WCSS(Clusters):\n",
    "    \"\"\"\n",
    "    :Clusters List[numpy.ndarray]\n",
    "    :rtype: float\n",
    "    \"\"\""
   ]
  },
  {
   "cell_type": "code",
   "execution_count": 8,
   "metadata": {},
   "outputs": [],
   "source": [
    "def ConfusionMatrix(y_true,y_pred):\n",
    "    \n",
    "    \"\"\"\n",
    "    :type y_true: numpy.ndarray\n",
    "    :type y_pred: numpy.ndarray\n",
    "    :rtype: float\n",
    "    \"\"\"  "
   ]
  },
  {
   "cell_type": "code",
   "execution_count": 15,
   "metadata": {},
   "outputs": [],
   "source": [
    "X_train = training[0:800, 0:48]\n",
    "Y_train = training[0:800, 48:49]\n",
    "Y_train = Y_train.flatten()\n",
    "X_test = testing[0:200, 0:48]\n",
    "Y_test = testing[0:200, 48:49]\n",
    "Y_test = Y_test.flatten()\n",
    "k = 10\n",
    "\n",
    "#Normalize the train and test data\n",
    "X_min = np.min(X_train,axis = 0)\n",
    "X_max = np.max(X_train,axis = 0)\n",
    "X_minMat = np.tile(X_min, (X_train.shape[0],1))\n",
    "X_maxMat = np.tile(X_max, (X_train.shape[0],1))\n",
    "X_train_normal = np.true_divide(X_train-X_minMat, X_maxMat-X_minMat)\n",
    "\n",
    "X_train = X_train_normal\n",
    "\n",
    "X_min2 = np.min(X_test,axis = 0)\n",
    "X_max2 = np.max(X_test,axis = 0)\n",
    "X_minMat2 = np.tile(X_min2, (X_test.shape[0],1))\n",
    "X_maxMat2 = np.tile(X_max2, (X_test.shape[0],1))\n",
    "X_test_normal = np.true_divide(X_test-X_minMat2, X_maxMat2-X_minMat2)\n",
    "\n",
    "X_test = X_test_normal\n",
    "\n",
    "y_pred = np.array([])\n",
    "for point in X_test:\n",
    "        dist = np.array([])\n",
    "        for row in X_train:\n",
    "            d = np.sqrt(np.sum((point-row)**2))\n",
    "            dist = np.append(dist, d)\n",
    "        attach = np.vstack((dist, Y_train))\n",
    "        sortDist = attach[:,attach[0].argsort()]\n",
    "        topK = sortDist[:,0:k]\n",
    "        topK = topK[1].astype(int)\n",
    "        counts = np.bincount(topK)\n",
    "        majority = np.argmax(counts)\n",
    "        y_pred = np.append(y_pred,majority)\n"
   ]
  },
  {
   "cell_type": "code",
   "execution_count": 16,
   "metadata": {},
   "outputs": [
    {
     "data": {
      "text/plain": [
       "array([ 9.,  9.,  5.,  2.,  4.,  6.,  1., 10., 10., 10.,  7.,  8.,  4.,\n",
       "       11.,  7.,  8.,  6.,  6.,  5.,  4.,  7.,  2.,  5., 10.,  2.,  7.,\n",
       "        5.,  9.,  6.,  9.,  2.,  6., 10.,  1.,  1.,  7.,  1.,  3.,  3.,\n",
       "        2.,  5.,  6., 10.,  3.,  7.,  5.,  4.,  1.,  6.,  6.,  5.,  3.,\n",
       "        1.,  4.,  9.,  1.,  8., 11.,  1., 11.,  1., 10.,  9.,  9.,  3.,\n",
       "        9.,  5., 10.,  8.,  9., 11.,  7.,  6.,  5.,  6.,  6.,  6.,  5.,\n",
       "       11., 11.,  7.,  2.,  7.,  8., 11.,  1.,  4.,  9.,  2.,  9.,  2.,\n",
       "       11.,  6.,  1.,  5.,  6.,  1.,  3.,  5.,  8., 10.,  5.,  9.,  7.,\n",
       "        1.,  9.,  6.,  7.,  4.,  1.,  9.,  5.,  5.,  5.,  2.,  3., 10.,\n",
       "       11.,  4.,  8.,  7.,  4.,  1.,  1.,  2.,  7.,  6.,  8.,  3.,  2.,\n",
       "        8.,  3.,  7.,  2.,  7.,  7., 11.,  8.,  4.,  6.,  1.,  6.,  9.,\n",
       "        2.,  3.,  9.,  8.,  4.,  9., 11.,  5.,  8.,  4., 11.,  3.,  1.,\n",
       "        9., 10., 11.,  2.,  7.,  6., 10., 11.,  6.,  2.,  4.,  1.,  2.,\n",
       "       11.,  5.,  7., 10.,  4.,  5.,  7.,  4.,  5., 10.,  8.,  5.,  6.,\n",
       "        4.,  4.,  9.,  5.,  3.,  9.,  8.,  4., 11.,  4.,  7.,  4.,  1.,\n",
       "        2.,  9., 11.,  6.,  7.])"
      ]
     },
     "metadata": {},
     "output_type": "display_data"
    },
    {
     "data": {
      "text/plain": [
       "array([ 6.,  9.,  5.,  2.,  4.,  2.,  8., 10.,  3., 10.,  7.,  5.,  4.,\n",
       "       11.,  7.,  5.,  3.,  1.,  4.,  4.,  7.,  2.,  4.,  1., 10.,  7.,\n",
       "        3.,  6.,  3.,  9., 10.,  6., 10.,  6.,  6.,  7.,  3.,  3.,  3.,\n",
       "        2.,  5.,  6.,  2.,  3.,  7.,  3.,  8.,  3.,  6.,  3.,  5.,  1.,\n",
       "        6.,  5.,  9.,  1.,  8., 11.,  1., 11.,  1.,  6.,  9.,  1.,  8.,\n",
       "        6.,  5., 10.,  6.,  3., 11.,  7.,  6.,  5.,  1.,  6.,  5.,  3.,\n",
       "       11., 11.,  7., 10.,  7.,  8., 11.,  1.,  4.,  3.,  2.,  5.,  3.,\n",
       "       11.,  1.,  6.,  8.,  1.,  6.,  3.,  5.,  6., 10.,  4.,  9.,  7.,\n",
       "        1.,  6.,  6.,  7.,  4.,  6.,  6.,  8.,  1.,  5.,  2.,  3.,  2.,\n",
       "       11.,  3.,  1.,  7.,  5.,  6.,  6.,  2.,  7.,  6.,  6.,  1.,  3.,\n",
       "        8.,  1.,  7., 10.,  7.,  4., 11.,  5.,  4.,  6.,  6.,  6.,  9.,\n",
       "        1.,  1.,  2.,  5.,  5.,  6., 11.,  5.,  6.,  4., 11.,  3.,  1.,\n",
       "        9.,  1., 11.,  1.,  7.,  6., 10., 11.,  6.,  6.,  8.,  6.,  2.,\n",
       "       11.,  5.,  7., 10.,  4.,  8.,  7.,  4.,  4., 10.,  8.,  8.,  6.,\n",
       "        3.,  8.,  6.,  9.,  5.,  9.,  8.,  4., 11.,  4.,  7.,  4.,  6.,\n",
       "       10.,  9., 11.,  6.,  7.])"
      ]
     },
     "metadata": {},
     "output_type": "display_data"
    },
    {
     "data": {
      "text/plain": [
       "0.56"
      ]
     },
     "execution_count": 16,
     "metadata": {},
     "output_type": "execute_result"
    }
   ],
   "source": [
    "from sklearn.metrics import accuracy_score\n",
    "y_true = Y_test\n",
    "\n",
    "display(y_true)\n",
    "display(y_pred)\n",
    "\n",
    "accuracy_score(y_true, y_pred)"
   ]
  },
  {
   "cell_type": "code",
   "execution_count": 29,
   "metadata": {
    "collapsed": true
   },
   "outputs": [
    {
     "data": {
      "text/plain": [
       "array([[[1, 4],\n",
       "        [7, 5],\n",
       "        [3, 2]],\n",
       "\n",
       "       [[3, 5],\n",
       "        [5, 3],\n",
       "        [1, 2]],\n",
       "\n",
       "       [[7, 9],\n",
       "        [5, 3],\n",
       "        [6, 2]]])"
      ]
     },
     "metadata": {},
     "output_type": "display_data"
    },
    {
     "data": {
      "text/plain": [
       "array([[[1, 4],\n",
       "        [3, 2]],\n",
       "\n",
       "       [[1, 2],\n",
       "        [3, 5]],\n",
       "\n",
       "       [[5, 3],\n",
       "        [6, 2]]])"
      ]
     },
     "metadata": {},
     "output_type": "display_data"
    }
   ],
   "source": [
    "mat = np.array([[[1,4],[7,5],[3,2]],[[3,5],[5,3],[1,2]],[[7,9],[5,3],[6,2]]])\n",
    "display(mat)\n",
    "m = mat.view(dtype=[('', mat.dtype)]*mat.shape[-1])\n",
    "m.sort(axis=1)\n",
    "mat\n",
    "display(mat[:,0:2,:])"
   ]
  },
  {
   "cell_type": "code",
   "execution_count": 30,
   "metadata": {
    "collapsed": true
   },
   "outputs": [
    {
     "data": {
      "text/plain": [
       "array([[1, 2, 3],\n",
       "       [3, 1, 6]])"
      ]
     },
     "metadata": {},
     "output_type": "display_data"
    },
    {
     "data": {
      "text/plain": [
       "array([[2, 7, 2],\n",
       "       [8, 2, 4]])"
      ]
     },
     "metadata": {},
     "output_type": "display_data"
    },
    {
     "data": {
      "text/plain": [
       "array([[0.5       , 0.28571429, 1.5       ],\n",
       "       [0.375     , 0.5       , 1.5       ]])"
      ]
     },
     "metadata": {},
     "output_type": "display_data"
    }
   ],
   "source": [
    "A = np.array([[1,2,3],[3,1,6]])\n",
    "display(A)\n",
    "B = np.array([[2,7,2],[8,2,4]])\n",
    "display(B)\n",
    "C = np.true_divide(A,B)\n",
    "display(C)\n",
    "mini = np.min(A,axis = 0)\n",
    "maxi = np.max(A,axis = 0)\n",
    "#display(mini)\n",
    "min2 = np.tile(mini, (A.shape[0],1))\n",
    "#display(min2)\n"
   ]
  },
  {
   "cell_type": "code",
   "execution_count": 21,
   "metadata": {
    "collapsed": true
   },
   "outputs": [
    {
     "data": {
      "text/plain": [
       "array([[11, 10, 10,  8,  3,  6],\n",
       "       [11,  5,  5,  6,  3, 10],\n",
       "       [11,  5,  5,  3,  7,  6],\n",
       "       [11, 11,  2, 10, 10,  6],\n",
       "       [11,  5,  3,  5,  7,  6],\n",
       "       [11, 11,  2, 10,  3,  6],\n",
       "       [11, 11,  5,  5,  6,  3],\n",
       "       [11,  7, 11,  3,  7,  5],\n",
       "       [11, 11,  2, 10, 10,  6],\n",
       "       [11, 11, 10, 10,  8,  2]])"
      ]
     },
     "metadata": {},
     "output_type": "display_data"
    },
    {
     "data": {
      "text/plain": [
       "array([10.,  5.,  5., 10.,  5., 11.,  5.,  7., 10., 10.])"
      ]
     },
     "metadata": {},
     "output_type": "display_data"
    }
   ],
   "source": [
    "X_train = training[0:50, 0:48]\n",
    "Y_train = training[0:50, 48:49]\n",
    "Y_train = Y_train.flatten()\n",
    "X_test = testing[0:10, 0:48]\n",
    "Y_test = testing[0:10, 48:49]\n",
    "Y_test = Y_test.flatten()\n",
    "\n",
    "#display(X_train)\n",
    "X_min = np.min(X_train,axis = 0)\n",
    "#display(X_min)\n",
    "X_max = np.max(X_train,axis = 0)\n",
    "X_minMat = np.tile(X_min, (X_train.shape[0],1))\n",
    "X_maxMat = np.tile(X_max, (X_train.shape[0],1))\n",
    "X_train_normal = np.true_divide(X_train-X_minMat, X_maxMat-X_minMat)\n",
    "#display(X_maxMat)\n",
    "\n",
    "X_min2 = np.min(X_test,axis = 0)\n",
    "#display(X_min)\n",
    "X_max2 = np.max(X_test,axis = 0)\n",
    "X_minMat2 = np.tile(X_min2, (X_test.shape[0],1))\n",
    "X_maxMat2 = np.tile(X_max2, (X_test.shape[0],1))\n",
    "X_test_normal = np.true_divide(X_test-X_minMat2, X_maxMat2-X_minMat2)\n",
    "\n",
    "\n",
    "#display(final)\n",
    "X_train_normal = np.transpose(X_train_normal)\n",
    "dist = np.dot(X_test_normal, X_train_normal)\n",
    "\n",
    "\n",
    "k = 6\n",
    "trueLabel = np.tile(Y_train, (X_test_normal.shape[0],1))\n",
    "Dist = np.array(np.dstack((dist, trueLabel)))\n",
    "#Dist = np.array(Dist[0:3,0:3,0:2])\n",
    "#display(Dist)\n",
    "D = Dist.view(dtype=[('', Dist.dtype)]*Dist.shape[-1])\n",
    "D.sort(axis=1)\n",
    "# display(Dist)\n",
    "topK = Dist[:,0:k,:]\n",
    "# display(topK)\n",
    "topK = topK[:,:,1].astype(int)\n",
    "display(topK)\n",
    "Y_pred = np.array([])\n",
    "for vector in topK:\n",
    "    counts = np.bincount(vector)\n",
    "    majority = np.argmax(counts)\n",
    "    Y_pred = np.append(Y_pred,majority)\n",
    "display(Y_pred)\n",
    "#=sortDist = np.sort(sortDist, axis = 2)\n",
    "#display(sortDist)\n",
    "#sortDist = sorted(data, key=lambda x: x[1])\n"
   ]
  },
  {
   "cell_type": "code",
   "execution_count": 25,
   "metadata": {
    "collapsed": true
   },
   "outputs": [
    {
     "data": {
      "text/plain": [
       "array([ 6.,  9., 10.,  4.,  1.,  7.,  3., 11.,  5.,  7.])"
      ]
     },
     "metadata": {},
     "output_type": "display_data"
    },
    {
     "data": {
      "text/plain": [
       "0.0"
      ]
     },
     "execution_count": 25,
     "metadata": {},
     "output_type": "execute_result"
    }
   ],
   "source": [
    "from sklearn.metrics import accuracy_score\n",
    "\n",
    "y_true = Y_test\n",
    "display(y_true)\n",
    "\n",
    "accuracy_score(y_true, Y_pred)"
   ]
  },
  {
   "cell_type": "code",
   "execution_count": 20,
   "metadata": {},
   "outputs": [],
   "source": [
    "def KNN(X_train,X_test,Y_train, k):\n",
    "    y_pred = np.array([])\n",
    "    for point in X_test:\n",
    "        dist = np.array([])\n",
    "        for row in X_train:\n",
    "            d = np.sqrt(np.sum((point-row)**2))\n",
    "            dist = np.append(dist, d)\n",
    "        attach = np.vstack((dist, Y_train))\n",
    "        sortDist = attach[:,attach[0].argsort()]\n",
    "        topK = sortDist[:,0:k]\n",
    "        topK = topK[1].astype(int)\n",
    "        counts = np.bincount(topK)\n",
    "        majority = np.argmax(counts)\n",
    "        y_pred = np.append(y_pred,majority)\n",
    "    return y_pred\n",
    "        \n",
    "    \"\"\"\n",
    "    :type X_train: numpy.ndarray\n",
    "    :type X_test: numpy.ndarray\n",
    "    :type Y_train: numpy.ndarray\n",
    "    ##NP.tile np.repeat\n",
    "    ##np.lin(norx)\n",
    "    ##creating a matrix with same test row repeating operation on entire train matrix\n",
    "    ##(A-B)^2 = A^2 - 2AB + B^2\n",
    "    ##cosine distance also an option\n",
    "    :rtype: numpy.ndarray\n",
    "    \"\"\""
   ]
  },
  {
   "cell_type": "code",
   "execution_count": 17,
   "metadata": {},
   "outputs": [
    {
     "data": {
      "text/plain": [
       "(800, 48)"
      ]
     },
     "execution_count": 17,
     "metadata": {},
     "output_type": "execute_result"
    }
   ],
   "source": [
    "X_train.shape"
   ]
  },
  {
   "cell_type": "code",
   "execution_count": 18,
   "metadata": {},
   "outputs": [
    {
     "data": {
      "text/plain": [
       "(200, 48)"
      ]
     },
     "execution_count": 18,
     "metadata": {},
     "output_type": "execute_result"
    }
   ],
   "source": [
    "X_test.shape"
   ]
  },
  {
   "cell_type": "code",
   "execution_count": null,
   "metadata": {},
   "outputs": [],
   "source": [
    "def RandomForest(X_train,Y_train,X_test):\n",
    "    \"\"\"\n",
    "    :type X_train: numpy.ndarray\n",
    "    :type X_test: numpy.ndarray\n",
    "    :type Y_train: numpy.ndarray\n",
    "    \n",
    "    :rtype: numpy.ndarray\n",
    "    \"\"\""
   ]
  },
  {
   "cell_type": "code",
   "execution_count": null,
   "metadata": {},
   "outputs": [],
   "source": [
    "def PCA(X_train,N):\n",
    "    \"\"\"\n",
    "    :type X_train: numpy.ndarray\n",
    "    :type N: int\n",
    "    :rtype: numpy.ndarray\n",
    "    \"\"\"  "
   ]
  },
  {
   "cell_type": "code",
   "execution_count": null,
   "metadata": {},
   "outputs": [],
   "source": [
    "def Kmeans(X_train,N):\n",
    "    \"\"\"\n",
    "    :type X_train: numpy.ndarray\n",
    "    :type N: int\n",
    "    :rtype: List[numpy.ndarray]\n",
    "    \"\"\"\n",
    "    \n",
    "    #1) Choose the number of clusters (K = N)\n",
    "    \n",
    "    #2) Initialize N centroids to \"random\" values of the data\n",
    "    #Either choose them at random: (Find the min and max of the data, then calculate random coordinates from there)\n",
    "    \n",
    "    \n",
    "    #Or sort the dataset, split it into K portions and pick one datapoint from each portion as a centriod.\n",
    "    \n",
    "    #3) Reassign all points to the closest centroid\n",
    "    #Calculate Euclidean distance between each point and each centroid, assign each point to the min dist centroid\n",
    "    \n",
    "    #4) Recalculate centroid coordinate based on point assignment\n",
    "    #New centroid value is the average of all point that currently have that centroid's label\n",
    "    \n",
    "    #5) Repeat steps 3 and 4 until there is no change in centroid coordinates, or points stop switching clusters\n",
    "    #Either keep track and only stop is all of the centroids don't change values\n",
    "    #Or only repeat a fixed number of iterations\n",
    "    "
   ]
  },
  {
   "cell_type": "code",
   "execution_count": null,
   "metadata": {},
   "outputs": [],
   "source": [
    "def SklearnSupervisedLearning(X_train,Y_train,X_test):\n",
    "    \"\"\"\n",
    "    :type X_train: numpy.ndarray\n",
    "    :type X_test: numpy.ndarray\n",
    "    :type Y_train: numpy.ndarray\n",
    "    \n",
    "    :rtype: List[numpy.ndarray] \n",
    "    \"\"\"\n",
    "\""
   ]
  },
  {
   "cell_type": "code",
   "execution_count": null,
   "metadata": {},
   "outputs": [],
   "source": [
    "def SklearnVotingClassifier(X_train,Y_train,X_test):\n",
    "    \n",
    "    \"\"\"\n",
    "    :type X_train: numpy.ndarray\n",
    "    :type X_test: numpy.ndarray\n",
    "    :type Y_train: numpy.ndarray\n",
    "    \n",
    "    :rtype: List[numpy.ndarray] \n",
    "    \"\"\"\n",
    "\n",
    "\n",
    "\"\"\"\n",
    "Create your own custom functions for Matplotlib visualization of hyperparameter search. \n",
    "Make sure that plots are labeled and proper legends are used\n",
    "\"\""
   ]
  }
 ],
 "metadata": {
  "kernelspec": {
   "display_name": "Python 3",
   "language": "python",
   "name": "python3"
  },
  "language_info": {
   "codemirror_mode": {
    "name": "ipython",
    "version": 3
   },
   "file_extension": ".py",
   "mimetype": "text/x-python",
   "name": "python",
   "nbconvert_exporter": "python",
   "pygments_lexer": "ipython3",
   "version": "3.6.9"
  }
 },
 "nbformat": 4,
 "nbformat_minor": 2
}
