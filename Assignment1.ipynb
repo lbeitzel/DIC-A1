{
 "cells": [
  {
   "cell_type": "code",
   "execution_count": 1,
   "metadata": {},
   "outputs": [],
   "source": [
    "# -*- coding: utf-8 -*-\n",
    "\"\"\"\n",
    "Predicitve_Analytics.py\n",
    "\"\"\"\n",
    "import numpy as np\n",
    "import pandas as pd\n",
    "\n",
    "df=pd.read_csv('data.csv')"
   ]
  },
  {
   "cell_type": "code",
   "execution_count": 2,
   "metadata": {},
   "outputs": [],
   "source": [
    "data = df.to_numpy()\n",
    "training_ind = np.random.rand(len(data)) <= 0.8\n",
    "training = data[training_ind]\n",
    "testing = data[~training_ind]\n",
    "X_train = training[0:32734, 0:48]\n",
    "Y_train = training[0:32734, 48:49]\n",
    "Y_train = Y_train.flatten()\n",
    "X_test = testing[0:8222, 0:48]\n",
    "Y_test = testing[0:8222, 48:49]\n",
    "Y_test = Y_test.flatten()\n",
    "\n",
    "#k = 5\n",
    "#print(KNN(X_train, X_test, Y_train, k))"
   ]
  },
  {
   "cell_type": "code",
   "execution_count": 5,
   "metadata": {},
   "outputs": [
    {
     "ename": "NameError",
     "evalue": "name 'ConfusionMatrix' is not defined",
     "output_type": "error",
     "traceback": [
      "\u001b[0;31m---------------------------------------------------------------------------\u001b[0m",
      "\u001b[0;31mNameError\u001b[0m                                 Traceback (most recent call last)",
      "\u001b[0;32m<ipython-input-5-ff735726fcc0>\u001b[0m in \u001b[0;36m<module>\u001b[0;34m\u001b[0m\n\u001b[1;32m      1\u001b[0m \u001b[0my_true\u001b[0m \u001b[0;34m=\u001b[0m \u001b[0mnp\u001b[0m\u001b[0;34m.\u001b[0m\u001b[0marray\u001b[0m\u001b[0;34m(\u001b[0m\u001b[0;34m[\u001b[0m\u001b[0;36m0\u001b[0m\u001b[0;34m,\u001b[0m\u001b[0;36m1\u001b[0m\u001b[0;34m,\u001b[0m\u001b[0;36m1\u001b[0m\u001b[0;34m,\u001b[0m\u001b[0;36m2\u001b[0m\u001b[0;34m]\u001b[0m\u001b[0;34m)\u001b[0m\u001b[0;34m\u001b[0m\u001b[0;34m\u001b[0m\u001b[0m\n\u001b[1;32m      2\u001b[0m \u001b[0my_pred\u001b[0m \u001b[0;34m=\u001b[0m \u001b[0mnp\u001b[0m\u001b[0;34m.\u001b[0m\u001b[0marray\u001b[0m\u001b[0;34m(\u001b[0m\u001b[0;34m[\u001b[0m\u001b[0;36m0\u001b[0m\u001b[0;34m,\u001b[0m\u001b[0;36m1\u001b[0m\u001b[0;34m,\u001b[0m\u001b[0;36m1\u001b[0m\u001b[0;34m,\u001b[0m\u001b[0;36m1\u001b[0m\u001b[0;34m]\u001b[0m\u001b[0;34m)\u001b[0m\u001b[0;34m\u001b[0m\u001b[0;34m\u001b[0m\u001b[0m\n\u001b[0;32m----> 3\u001b[0;31m \u001b[0mA\u001b[0m \u001b[0;34m=\u001b[0m \u001b[0mConfusionMatrix\u001b[0m\u001b[0;34m(\u001b[0m\u001b[0my_true\u001b[0m\u001b[0;34m,\u001b[0m\u001b[0my_pred\u001b[0m\u001b[0;34m)\u001b[0m\u001b[0;34m\u001b[0m\u001b[0;34m\u001b[0m\u001b[0m\n\u001b[0m\u001b[1;32m      4\u001b[0m \u001b[0mB\u001b[0m \u001b[0;34m=\u001b[0m \u001b[0mnp\u001b[0m\u001b[0;34m.\u001b[0m\u001b[0marray\u001b[0m\u001b[0;34m(\u001b[0m\u001b[0;34m[\u001b[0m\u001b[0;34m]\u001b[0m\u001b[0;34m)\u001b[0m\u001b[0;34m\u001b[0m\u001b[0;34m\u001b[0m\u001b[0m\n\u001b[1;32m      5\u001b[0m \u001b[0;31m#display(A[0,:])\u001b[0m\u001b[0;34m\u001b[0m\u001b[0;34m\u001b[0m\u001b[0;34m\u001b[0m\u001b[0m\n",
      "\u001b[0;31mNameError\u001b[0m: name 'ConfusionMatrix' is not defined"
     ]
    }
   ],
   "source": [
    "y_true = np.array([0,1,1,2])\n",
    "y_pred = np.array([0,1,1,1])\n",
    "A = ConfusionMatrix(y_true,y_pred)\n",
    "B = np.array([])\n",
    "#display(A[0,:])\n",
    "#display(np.sum(A[0,:]))\n",
    "display(y_true.shape[0])\n",
    "display(y_true.shape[0]-1)\n",
    "acct = A[0,0]/(np.sum(A[0,:]))\n",
    "for i in range(y_true.shape[0]):\n",
    "   acct = A[i,i]/(np.sum(A[i,:]))\n",
    "   display(acct)\n",
    "   B = np.append(B,acct)\n",
    "display(B)"
   ]
  },
  {
   "cell_type": "code",
   "execution_count": 13,
   "metadata": {},
   "outputs": [
    {
     "data": {
      "text/plain": [
       "(3, 3)"
      ]
     },
     "metadata": {},
     "output_type": "display_data"
    },
    {
     "data": {
      "text/plain": [
       "0"
      ]
     },
     "metadata": {},
     "output_type": "display_data"
    },
    {
     "data": {
      "text/plain": [
       "1"
      ]
     },
     "metadata": {},
     "output_type": "display_data"
    },
    {
     "data": {
      "text/plain": [
       "2"
      ]
     },
     "metadata": {},
     "output_type": "display_data"
    },
    {
     "data": {
      "text/plain": [
       "array([1.        , 0.66666667, 0.        ])"
      ]
     },
     "metadata": {},
     "output_type": "display_data"
    },
    {
     "data": {
      "text/plain": [
       "0.5555555555555555"
      ]
     },
     "metadata": {},
     "output_type": "display_data"
    }
   ],
   "source": [
    "y_true = np.array([0,1,1,2])\n",
    "y_pred = np.array([0,1,1,1])\n",
    "A = ConfusionMatrix(y_true,y_pred)\n",
    "B = np.array([])\n",
    "display(A.shape)\n",
    "for i in range(A.shape[0]):\n",
    "    display(i)\n",
    "    sumRow = (np.sum(A[i,:]))\n",
    "    if sumRow == 0:\n",
    "        sumRow = 1\n",
    "    acct = A[i,i]/sumRow\n",
    "    B = np.append(B,acct)\n",
    "mean = np.mean(B)\n",
    "display(B, mean)\n"
   ]
  },
  {
   "cell_type": "code",
   "execution_count": 14,
   "metadata": {},
   "outputs": [
    {
     "data": {
      "text/plain": [
       "0.6666666666666666"
      ]
     },
     "metadata": {},
     "output_type": "display_data"
    },
    {
     "data": {
      "text/plain": [
       "0.5555555555555555"
      ]
     },
     "metadata": {},
     "output_type": "display_data"
    },
    {
     "data": {
      "text/plain": [
       "0.75"
      ]
     },
     "metadata": {},
     "output_type": "display_data"
    }
   ],
   "source": [
    "display(Recall(y_true,y_pred))\n",
    "display(Precision(y_true,y_pred))\n",
    "display(Accuracy(y_true,y_pred))"
   ]
  },
  {
   "cell_type": "code",
   "execution_count": 9,
   "metadata": {},
   "outputs": [],
   "source": [
    "def Accuracy(y_true,y_pred):\n",
    "    A = ConfusionMatrix(y_true,y_pred)\n",
    "    trueVal = np.sum(A.diagonal())\n",
    "    total = np.sum(A)\n",
    "    return trueVal/total\n",
    "    \n",
    "    \"\"\"\n",
    "    :type y_true: numpy.ndarray\n",
    "    :type y_pred: numpy.ndarray\n",
    "    :rtype: float\n",
    "    \n",
    "    \"\"\""
   ]
  },
  {
   "cell_type": "code",
   "execution_count": 10,
   "metadata": {},
   "outputs": [],
   "source": [
    "def Recall(y_true,y_pred):\n",
    "    A = ConfusionMatrix(y_true,y_pred)\n",
    "    B = np.array([])\n",
    "    for i in range(A.shape[0]):\n",
    "        sumCol = (np.sum(A[:,i]))\n",
    "        if sumCol == 0:\n",
    "            sumCol = 1\n",
    "        acct = A[i,i]/sumCol\n",
    "        B = np.append(B,acct)\n",
    "    mean = np.mean(B)\n",
    "    return mean"
   ]
  },
  {
   "cell_type": "code",
   "execution_count": 11,
   "metadata": {},
   "outputs": [],
   "source": [
    "def Precision(y_true,y_pred):\n",
    "    A = ConfusionMatrix(y_true,y_pred)\n",
    "    B = np.array([])\n",
    "    for i in range(A.shape[0]):\n",
    "        sumRow = (np.sum(A[i,:]))\n",
    "        if sumRow == 0:\n",
    "            sumRow = 1\n",
    "        acct = A[i,i]/sumRow\n",
    "        B = np.append(B,acct)\n",
    "    mean = np.mean(B)\n",
    "    return mean\n",
    "    \"\"\"\n",
    "    :type y_true: numpy.ndarray\n",
    "    :type y_pred: numpy.ndarray\n",
    "    :rtype: float\n",
    "    \"\"\""
   ]
  },
  {
   "cell_type": "markdown",
   "metadata": {},
   "source": [
    "# WCSS"
   ]
  },
  {
   "cell_type": "code",
   "execution_count": 145,
   "metadata": {},
   "outputs": [
    {
     "data": {
      "text/plain": [
       "array([[ 0.5,  0. ,  1. ],\n",
       "       [ 2.5,  2. ,  3. ],\n",
       "       [ 4.5,  4. ,  5. ],\n",
       "       [ 6.5,  6. ,  7. ],\n",
       "       [ 8.5,  8. ,  9. ],\n",
       "       [10.5, 10. , 11. ]])"
      ]
     },
     "metadata": {},
     "output_type": "display_data"
    }
   ],
   "source": [
    "r = 6\n",
    "clusters = np.arange(r*2).reshape((r, 2))\n",
    "# display(clusters)\n",
    "\n",
    "centroids = np.zeros(clusters.shape[0])\n",
    "for i in range(clusters.shape[0]):\n",
    "    centroids[i] = np.mean(clusters[i, :])\n",
    "    \n",
    "centroids = centroids.reshape((clusters.shape[0], 1))\n",
    "# display(centroids)\n",
    "\n",
    "combined = np.append(centroids, clusters, axis=1)\n",
    "display(combined)"
   ]
  },
  {
   "cell_type": "code",
   "execution_count": 156,
   "metadata": {},
   "outputs": [],
   "source": [
    "def WCSS(Clusters):\n",
    "    \"\"\"\n",
    "    :Clusters List[numpy.ndarray]\n",
    "    :rtype: float\n",
    "    \"\"\"\n",
    "    \n",
    "    avg_list = np.array([])\n",
    "    \n",
    "    #for each cluster:\n",
    "    for i in range(Clusters.shape[0]):\n",
    "        c_sum = 0\n",
    "        c_avg = 0\n",
    "        \n",
    "        # find the euclidean distance between the centroid and all other points in the cluster\n",
    "        for j in range(1, Clusters.shape[1]):\n",
    "            centroid = Clusters[i, 0]\n",
    "            dist = euclidean_dist(centroid, Clusters[i, j])\n",
    "            # sum up all of these distances\n",
    "            c_sum += dist\n",
    "        \n",
    "        # and divide by the number of points\n",
    "        c_avg = c_sum / (Clusters.shape[1] - 1)\n",
    "        #add to the list of averages\n",
    "        avg_list = np.append(avg_list, c_avg)\n",
    "        \n",
    "    # Finally, calculate the average across all clusters\n",
    "    cluster_sum = np.sum(avg_list) / Clusters.shape[0]\n",
    "    return cluster_sum\n",
    "    "
   ]
  },
  {
   "cell_type": "code",
   "execution_count": 157,
   "metadata": {},
   "outputs": [
    {
     "data": {
      "text/plain": [
       "0.5"
      ]
     },
     "metadata": {},
     "output_type": "display_data"
    }
   ],
   "source": [
    "val = WCSS(combined)\n",
    "display(val)"
   ]
  },
  {
   "cell_type": "code",
   "execution_count": null,
   "metadata": {},
   "outputs": [],
   "source": []
  },
  {
   "cell_type": "code",
   "execution_count": 8,
   "metadata": {},
   "outputs": [],
   "source": [
    "def ConfusionMatrix(y_true,y_pred):\n",
    "    numClass = np.unique(y_true).shape[0]\n",
    "    C = y_true*numClass + y_pred\n",
    "    C = np.bincount(C)\n",
    "    C = np.pad(C, (0, numClass**2-C.shape[0]), 'constant')\n",
    "    D = C.reshape(numClass,numClass)\n",
    "    return np.transpose(D)\n",
    "    \"\"\"\n",
    "    :type y_true: numpy.ndarray\n",
    "    :type y_pred: numpy.ndarray\n",
    "    :rtype: float\n",
    "    \"\"\"  "
   ]
  },
  {
   "cell_type": "code",
   "execution_count": null,
   "metadata": {},
   "outputs": [],
   "source": [
    "y_true = np.array([0,1,1,2])\n",
    "y_pred = np.array([0,1,1,1])\n",
    "#display(y_true)\n",
    "#display(np.unique(y_true))\n",
    "numClass = np.unique(y_true).shape[0]\n",
    "#display(numClass)\n",
    "C = y_true*numClass + y_pred\n",
    "C = np.bincount(C)\n",
    "C = np.pad(C, (0, numClass**2-C.shape[0]), 'constant')\n",
    "#display(C)\n",
    "D = C.reshape(numClass,numClass)\n",
    "#display(D)"
   ]
  },
  {
   "cell_type": "code",
   "execution_count": null,
   "metadata": {},
   "outputs": [],
   "source": [
    "X_train = training[0:800, 0:20]\n",
    "Y_train = training[0:800, 48:49]\n",
    "Y_train = Y_train.flatten()\n",
    "X_test = testing[0:200, 0:20]\n",
    "Y_test = testing[0:200, 48:49]\n",
    "Y_test = Y_test.flatten()\n",
    "k = 10\n",
    "\n",
    "y_pred = np.array([])\n",
    "for point in X_test:\n",
    "        dist = np.array([])\n",
    "        for row in X_train:\n",
    "            d = np.sqrt(np.sum((point-row)**2))\n",
    "            dist = np.append(dist, d)\n",
    "        attach = np.vstack((dist, Y_train))\n",
    "        sortDist = attach[:,attach[0].argsort()]\n",
    "        topK = sortDist[:,0:k]\n",
    "        topK = topK[1].astype(int)\n",
    "        counts = np.bincount(topK)\n",
    "        majority = np.argmax(counts)\n",
    "        y_pred = np.append(y_pred,majority)\n",
    "        \n",
    "\n",
    "from sklearn.metrics import accuracy_score\n",
    "y_true = Y_test\n",
    "accuracy_score(y_true, y_pred)"
   ]
  },
  {
   "cell_type": "code",
   "execution_count": null,
   "metadata": {},
   "outputs": [],
   "source": [
    "mat = np.array([[[1,4,5,6],[7,2,5,5],[3,1,4,2]],[[3,5,6,5],[5,2,7,3],[8,6,1,2]]])\n",
    "display(mat)\n",
    "#mat_sort = mat[mat[:,2].argsort()[::-1]]\n",
    "#mat = mat[np.arange(len(mat))[:,np.newaxis]]\n",
    "#m = mat.view(dtype=[('', mat.dtype)]*mat.shape[-1])\n",
    "#m.sort(axis=1)\n",
    "#mat\n",
    "I, J, K = np.ogrid[tuple(map(slice, mat.shape))]\n",
    "# I, J, K are the identity indices in the sense that (A == A[I, J, K]).all()\n",
    "newK = np.argsort(mat[0],axis=-1) # first axis of A[1] is second axis of A\n",
    "display(mat[I, J, newK])\n",
    "#display(mat)"
   ]
  },
  {
   "cell_type": "code",
   "execution_count": null,
   "metadata": {},
   "outputs": [],
   "source": [
    "A = np.array([[1,4,5,6,7],[7,2,5,5,3],[3,1,4,2,7],[6,2,4,2,7]])\n",
    "#A = np.transpose(A)\n",
    "B = np.array([[3,5,6,5,2],[5,2,7,3,1],[8,6,1,2,2],[5,2,2,2,5]])\n",
    "#B = np.transpose(B)\n",
    "C = np.array([A, B])\n",
    "I, J, K = np.ogrid[tuple(map(slice, C.shape))]\n",
    "# I, J, K are the identity indices in the sense that (A == A[I, J, K]).all()\n",
    "newK = np.argsort(C[0],axis=-1) # first axis of A[1] is second axis of A\n",
    "display(C[I, J, newK])"
   ]
  },
  {
   "cell_type": "code",
   "execution_count": null,
   "metadata": {},
   "outputs": [],
   "source": [
    "A = np.array([[1,2,3],[3,1,6]])\n",
    "display(A)\n",
    "B = np.array([[2,7,2],[8,2,4]])\n",
    "display(B)\n",
    "C = np.true_divide(A,B)\n",
    "display(C)\n",
    "mini = np.min(A,axis = 0)\n",
    "maxi = np.max(A,axis = 0)\n",
    "#display(mini)\n",
    "min2 = np.tile(mini, (A.shape[0],1))\n",
    "#display(min2)\n"
   ]
  },
  {
   "cell_type": "code",
   "execution_count": 16,
   "metadata": {},
   "outputs": [
    {
     "data": {
      "text/plain": [
       "array([[1, 2, 1],\n",
       "       [4, 5, 1],\n",
       "       [2, 3, 1]])"
      ]
     },
     "metadata": {},
     "output_type": "display_data"
    },
    {
     "data": {
      "text/plain": [
       "array([[1, 2, 1],\n",
       "       [2, 1, 2]])"
      ]
     },
     "metadata": {},
     "output_type": "display_data"
    },
    {
     "data": {
      "text/plain": [
       "array([[[1, 2, 1]],\n",
       "\n",
       "       [[2, 1, 2]]])"
      ]
     },
     "metadata": {},
     "output_type": "display_data"
    },
    {
     "data": {
      "text/plain": [
       "array([[[2, 4, 2],\n",
       "        [5, 7, 2],\n",
       "        [3, 5, 2]],\n",
       "\n",
       "       [[3, 3, 3],\n",
       "        [6, 6, 3],\n",
       "        [4, 4, 3]]])"
      ]
     },
     "metadata": {},
     "output_type": "display_data"
    },
    {
     "data": {
      "text/plain": [
       "(2, 1, 3)"
      ]
     },
     "metadata": {},
     "output_type": "display_data"
    },
    {
     "data": {
      "text/plain": [
       "array([[ 8, 14, 10],\n",
       "       [ 9, 15, 11]])"
      ]
     },
     "metadata": {},
     "output_type": "display_data"
    }
   ],
   "source": [
    "A = np.array([[1,2,1],[4,5,1],[2,3,1]])\n",
    "display(A)\n",
    "B = np.array([[1,2,1],[2,1,2]])\n",
    "display(B)\n",
    "B_new = B[:,np.newaxis]\n",
    "display(B_new)\n",
    "C = A+B_new\n",
    "display(C)\n",
    "display(B_new.shape)\n",
    "C = np.sum(C,axis=2)\n",
    "display(C)"
   ]
  },
  {
   "cell_type": "code",
   "execution_count": null,
   "metadata": {},
   "outputs": [],
   "source": []
  },
  {
   "cell_type": "code",
   "execution_count": null,
   "metadata": {},
   "outputs": [],
   "source": []
  },
  {
   "cell_type": "code",
   "execution_count": null,
   "metadata": {},
   "outputs": [],
   "source": [
    "#display(X_train.shape, X_test.shape)\n",
    "X_min = np.min(X_train,axis = 0)\n",
    "X_max = np.max(X_train,axis = 0)\n",
    "X_minMat = np.tile(X_min, (X_train.shape[0],1))\n",
    "X_maxMat = np.tile(X_max, (X_train.shape[0],1))\n",
    "X_train_normal = np.true_divide(X_train-X_minMat, X_maxMat-X_minMat)\n",
    "\n",
    "\n",
    "X_min2 = np.min(X_test,axis = 0)\n",
    "X_max2 = np.max(X_test,axis = 0)\n",
    "X_minMat2 = np.tile(X_min2, (X_test.shape[0],1))\n",
    "X_maxMat2 = np.tile(X_max2, (X_test.shape[0],1))\n",
    "X_test_normal = np.true_divide(X_test-X_minMat2, X_maxMat2-X_minMat2)\n"
   ]
  },
  {
   "cell_type": "code",
   "execution_count": 3,
   "metadata": {},
   "outputs": [
    {
     "data": {
      "text/plain": [
       "array([[4.56154869, 4.62418325, 4.30597545, ..., 4.59311981, 4.52319435,\n",
       "        4.40996669],\n",
       "       [4.58427501, 4.64865525, 4.32998554, ..., 4.61786109, 4.54721027,\n",
       "        4.42933797],\n",
       "       [4.46773207, 4.53164515, 4.21312257, ..., 4.50045221, 4.43044681,\n",
       "        4.31401073],\n",
       "       ...,\n",
       "       [5.11803095, 5.18198247, 4.86339949, ..., 5.15119867, 5.08058677,\n",
       "        4.9634763 ],\n",
       "       [3.176862  , 3.24036528, 2.92186272, ..., 3.20974969, 3.13915709,\n",
       "        3.0250442 ],\n",
       "       [4.15079006, 4.21377148, 3.89544712, ..., 4.18283608, 4.1126884 ,\n",
       "        3.99886568]])"
      ]
     },
     "metadata": {},
     "output_type": "display_data"
    },
    {
     "data": {
      "text/plain": [
       "(200, 800)"
      ]
     },
     "metadata": {},
     "output_type": "display_data"
    },
    {
     "data": {
      "text/plain": [
       "array([[[ 3.78733215,  3.86520559,  3.86680905, ...,  5.99440856,\n",
       "          5.9983311 ,  6.0059101 ],\n",
       "        [ 3.81192134,  3.88705305,  3.88706154, ...,  6.01582054,\n",
       "          6.01976314,  6.02736625],\n",
       "        [ 3.6944891 ,  3.77077795,  3.77234789, ...,  5.89977181,\n",
       "          5.90370438,  5.91128966],\n",
       "        ...,\n",
       "        [ 4.34523964,  4.42092601,  4.42122706, ...,  6.54983161,\n",
       "          6.55377285,  6.56137866],\n",
       "        [ 2.40386772,  2.48023586,  2.48183471, ...,  4.60944312,\n",
       "          4.6133699 ,  4.62095523],\n",
       "        [ 3.37697442,  3.45429189,  3.45589164, ...,  5.58350024,\n",
       "          5.58742548,  5.5950075 ]],\n",
       "\n",
       "       [[10.        ,  3.        ,  3.        , ...,  4.        ,\n",
       "          4.        ,  4.        ],\n",
       "        [10.        ,  7.        ,  3.        , ...,  4.        ,\n",
       "          4.        ,  4.        ],\n",
       "        [10.        ,  3.        ,  3.        , ...,  4.        ,\n",
       "          4.        ,  4.        ],\n",
       "        ...,\n",
       "        [10.        ,  3.        ,  7.        , ...,  4.        ,\n",
       "          4.        ,  4.        ],\n",
       "        [10.        ,  3.        ,  3.        , ...,  4.        ,\n",
       "          4.        ,  4.        ],\n",
       "        [10.        ,  3.        ,  3.        , ...,  4.        ,\n",
       "          4.        ,  4.        ]]])"
      ]
     },
     "metadata": {},
     "output_type": "display_data"
    },
    {
     "data": {
      "text/plain": [
       "array([[10.,  3.,  3.,  7.,  7.,  7.],\n",
       "       [10.,  7.,  3.,  3.,  7.,  7.],\n",
       "       [10.,  3.,  3.,  7.,  7.,  7.],\n",
       "       ...,\n",
       "       [10.,  3.,  7.,  3.,  7.,  7.],\n",
       "       [10.,  3.,  3.,  7.,  7.,  7.],\n",
       "       [10.,  3.,  3.,  7.,  7.,  7.]])"
      ]
     },
     "metadata": {},
     "output_type": "display_data"
    },
    {
     "data": {
      "text/plain": [
       "array([[10,  3,  3,  7,  7,  7],\n",
       "       [10,  7,  3,  3,  7,  7],\n",
       "       [10,  3,  3,  7,  7,  7],\n",
       "       ...,\n",
       "       [10,  3,  7,  3,  7,  7],\n",
       "       [10,  3,  3,  7,  7,  7],\n",
       "       [10,  3,  3,  7,  7,  7]])"
      ]
     },
     "metadata": {},
     "output_type": "display_data"
    },
    {
     "data": {
      "text/plain": [
       "(200,)"
      ]
     },
     "metadata": {},
     "output_type": "display_data"
    },
    {
     "data": {
      "text/plain": [
       "0.065"
      ]
     },
     "metadata": {},
     "output_type": "display_data"
    }
   ],
   "source": [
    "#EUCLIDEAN\n",
    "X_train = training[0:800, 0:20]\n",
    "Y_train = training[0:800, 48:49]\n",
    "Y_train = Y_train.flatten()\n",
    "X_test = testing[0:200, 0:20]\n",
    "Y_test = testing[0:200, 48:49]\n",
    "Y_test = Y_test.flatten()\n",
    "X_train_normal = X_train\n",
    "X_test_normal = X_test\n",
    "\n",
    "A2 = np.square(X_train_normal)\n",
    "B2 = np.square(X_test_normal)\n",
    "B2_new = B2[:,np.newaxis]\n",
    "A2andB2 = A2+B2_new\n",
    "A2andB2 = np.sum(A2andB2,axis=2)\n",
    "X_train_normalnew = np.transpose(X_train_normal)\n",
    "AB2 = np.multiply(2, np.dot(X_test_normal,X_train_normalnew))\n",
    "Euclidean = np.sqrt(A2andB2 + AB2)\n",
    "display(Euclidean, Euclidean.shape)\n",
    "\n",
    "k = 6\n",
    "trueLabel = np.tile(Y_train, (X_test_normal.shape[0],1))\n",
    "Dist = np.array([Euclidean, trueLabel])\n",
    "\n",
    "I, J, K = np.ogrid[tuple(map(slice, Dist.shape))]\n",
    "# I, J, K are the identity indices in the sense that (A == A[I, J, K]).all()\n",
    "newK = np.argsort(Dist[0],axis=-1) # first axis of A[1] is second axis of A\n",
    "Dist = Dist[I, J, newK]\n",
    "#a,b = (X_test.shape[0],X_train.shape[0])\n",
    "display(Dist)\n",
    "topK = Dist[1,:,0:k]\n",
    "display(topK)\n",
    "#display(topK)\n",
    "topK = topK.astype(int)\n",
    "display(topK)\n",
    "#display(topK)\n",
    "Y_pred = np.array([])\n",
    "for vector in topK:\n",
    "    counts = np.bincount(vector)\n",
    "    majority = np.argmax(counts)\n",
    "    Y_pred = np.append(Y_pred,majority)\n",
    "display(Y_pred.shape)\n",
    "from sklearn.metrics import accuracy_score\n",
    "y_true = Y_test\n",
    "display(accuracy_score(y_true, Y_pred))"
   ]
  },
  {
   "cell_type": "code",
   "execution_count": null,
   "metadata": {},
   "outputs": [],
   "source": []
  },
  {
   "cell_type": "code",
   "execution_count": null,
   "metadata": {},
   "outputs": [],
   "source": []
  },
  {
   "cell_type": "code",
   "execution_count": null,
   "metadata": {},
   "outputs": [],
   "source": []
  },
  {
   "cell_type": "code",
   "execution_count": null,
   "metadata": {},
   "outputs": [],
   "source": []
  },
  {
   "cell_type": "code",
   "execution_count": 6,
   "metadata": {},
   "outputs": [
    {
     "data": {
      "text/plain": [
       "array([[[1.06712859e-02, 1.08226540e-02, 1.10574405e-02, ...,\n",
       "         2.92841730e-01, 2.94245422e-01, 2.97682827e-01],\n",
       "        [7.90492197e-03, 8.26470993e-03, 8.48467208e-03, ...,\n",
       "         4.18210192e-01, 4.18645364e-01, 4.21285074e-01],\n",
       "        [1.17698566e-02, 1.25708989e-02, 1.27096657e-02, ...,\n",
       "         3.01783358e-01, 3.02470321e-01, 3.03002709e-01],\n",
       "        ...,\n",
       "        [1.24217951e-02, 1.28415148e-02, 1.28456472e-02, ...,\n",
       "         2.77452034e-01, 2.79875776e-01, 2.87272537e-01],\n",
       "        [1.14967993e-02, 1.28375296e-02, 1.28740186e-02, ...,\n",
       "         2.35169962e-01, 2.45143444e-01, 2.65554642e-01],\n",
       "        [1.65136654e-02, 1.71756100e-02, 1.76578767e-02, ...,\n",
       "         2.67775242e-01, 2.70404970e-01, 2.78732080e-01]],\n",
       "\n",
       "       [[6.00000000e+00, 9.00000000e+00, 9.00000000e+00, ...,\n",
       "         1.10000000e+01, 1.10000000e+01, 1.10000000e+01],\n",
       "        [3.00000000e+00, 3.00000000e+00, 3.00000000e+00, ...,\n",
       "         1.10000000e+01, 1.10000000e+01, 1.10000000e+01],\n",
       "        [3.00000000e+00, 8.00000000e+00, 3.00000000e+00, ...,\n",
       "         1.10000000e+01, 1.10000000e+01, 1.10000000e+01],\n",
       "        ...,\n",
       "        [9.00000000e+00, 9.00000000e+00, 9.00000000e+00, ...,\n",
       "         1.10000000e+01, 1.10000000e+01, 1.10000000e+01],\n",
       "        [2.00000000e+00, 2.00000000e+00, 2.00000000e+00, ...,\n",
       "         1.10000000e+01, 1.10000000e+01, 1.10000000e+01],\n",
       "        [8.00000000e+00, 8.00000000e+00, 8.00000000e+00, ...,\n",
       "         1.10000000e+01, 1.10000000e+01, 1.10000000e+01]]])"
      ]
     },
     "metadata": {},
     "output_type": "display_data"
    },
    {
     "data": {
      "text/plain": [
       "array([[6., 9., 9., 6., 6., 6.],\n",
       "       [3., 3., 3., 4., 5., 3.],\n",
       "       [3., 8., 3., 9., 3., 8.],\n",
       "       ...,\n",
       "       [9., 9., 9., 9., 9., 9.],\n",
       "       [2., 2., 2., 2., 2., 2.],\n",
       "       [8., 8., 8., 8., 1., 6.]])"
      ]
     },
     "metadata": {},
     "output_type": "display_data"
    },
    {
     "data": {
      "text/plain": [
       "array([[6, 9, 9, 6, 6, 6],\n",
       "       [3, 3, 3, 4, 5, 3],\n",
       "       [3, 8, 3, 9, 3, 8],\n",
       "       ...,\n",
       "       [9, 9, 9, 9, 9, 9],\n",
       "       [2, 2, 2, 2, 2, 2],\n",
       "       [8, 8, 8, 8, 1, 6]])"
      ]
     },
     "metadata": {},
     "output_type": "display_data"
    },
    {
     "data": {
      "text/plain": [
       "(2000,)"
      ]
     },
     "metadata": {},
     "output_type": "display_data"
    },
    {
     "data": {
      "text/plain": [
       "0.6895"
      ]
     },
     "metadata": {},
     "output_type": "display_data"
    }
   ],
   "source": [
    "#COSINE GARBAGE ABSOLUTE TRAHS\n",
    "X_train = training[0:8000, 0:48]\n",
    "Y_train = training[0:8000, 48:49]\n",
    "Y_train = Y_train.flatten()\n",
    "X_test = testing[0:2000, 0:48]\n",
    "Y_test = testing[0:2000, 48:49]\n",
    "Y_test = Y_test.flatten()\n",
    "\n",
    "#display(X_train.shape, X_test.shape)\n",
    "X_min = np.min(X_train,axis = 0)\n",
    "X_max = np.max(X_train,axis = 0)\n",
    "X_minMat = np.tile(X_min, (X_train.shape[0],1))\n",
    "X_maxMat = np.tile(X_max, (X_train.shape[0],1))\n",
    "X_train_normal = np.true_divide(X_train-X_minMat, X_maxMat-X_minMat)\n",
    "\n",
    "X_min2 = np.min(X_test,axis = 0)\n",
    "X_max2 = np.max(X_test,axis = 0)\n",
    "X_minMat2 = np.tile(X_min2, (X_test.shape[0],1))\n",
    "X_maxMat2 = np.tile(X_max2, (X_test.shape[0],1))\n",
    "X_test_normal = np.true_divide(X_test-X_minMat2, X_maxMat2-X_minMat2)\n",
    "#display(X_train_normal.shape, X_test_normal.shape)\n",
    "\n",
    "X_train_L1norm = np.apply_along_axis(np.linalg.norm, 1, X_train_normal)\n",
    "X_test_L1norm = np.apply_along_axis(np.linalg.norm, 1, X_test_normal)\n",
    "#display(X_train_L1norm.shape, X_test_L1norm.shape)\n",
    "\n",
    "C = np.transpose(np.tile(X_train_L1norm, (X_train.shape[1],1)))\n",
    "D = np.transpose(np.tile(X_test_L1norm, (X_test.shape[1],1)))\n",
    "#display(C.shape,D.shape)\n",
    "\n",
    "X_train_final = np.true_divide(X_train_normal,C)\n",
    "X_test_final = np.true_divide(X_test_normal,D)\n",
    "\n",
    "X_train_final = np.transpose(X_train_final)\n",
    "#display(X_test_final.shape, X_train_final.shape)\n",
    "\n",
    "dist = np.dot(X_test_final, X_train_final)\n",
    "k = 6\n",
    "trueLabel = np.tile(Y_train, (X_test_final.shape[0],1))\n",
    "ones = np.ones((X_test.shape[0],X_train.shape[0]))\n",
    "Dist = np.subtract(ones,dist)\n",
    "Dist = np.array([Dist, trueLabel])\n",
    "\n",
    "I, J, K = np.ogrid[tuple(map(slice, Dist.shape))]\n",
    "# I, J, K are the identity indices in the sense that (A == A[I, J, K]).all()\n",
    "newK = np.argsort(Dist[0],axis=-1) # first axis of A[1] is second axis of A\n",
    "Dist = Dist[I, J, newK]\n",
    "#a,b = (X_test.shape[0],X_train.shape[0])\n",
    "display(Dist)\n",
    "topK = Dist[1,:,0:k]\n",
    "display(topK)\n",
    "#display(topK)\n",
    "topK = topK.astype(int)\n",
    "display(topK)\n",
    "#display(topK)\n",
    "Y_pred = np.array([])\n",
    "for vector in topK:\n",
    "    counts = np.bincount(vector)\n",
    "    majority = np.argmax(counts)\n",
    "    Y_pred = np.append(Y_pred,majority)\n",
    "display(Y_pred.shape)\n",
    "from sklearn.metrics import accuracy_score\n",
    "y_true = Y_test\n",
    "display(accuracy_score(y_true, Y_pred))"
   ]
  },
  {
   "cell_type": "code",
   "execution_count": 33,
   "metadata": {},
   "outputs": [
    {
     "ename": "NameError",
     "evalue": "name 'Dist' is not defined",
     "output_type": "error",
     "traceback": [
      "\u001b[0;31m---------------------------------------------------------------------------\u001b[0m",
      "\u001b[0;31mNameError\u001b[0m                                 Traceback (most recent call last)",
      "\u001b[0;32m<ipython-input-33-7ff239f3cb9d>\u001b[0m in \u001b[0;36m<module>\u001b[0;34m\u001b[0m\n\u001b[0;32m----> 1\u001b[0;31m \u001b[0mtopK\u001b[0m \u001b[0;34m=\u001b[0m \u001b[0mDist\u001b[0m\u001b[0;34m[\u001b[0m\u001b[0;34m:\u001b[0m\u001b[0;34m,\u001b[0m\u001b[0;36m0\u001b[0m\u001b[0;34m:\u001b[0m\u001b[0mk\u001b[0m\u001b[0;34m,\u001b[0m\u001b[0;34m:\u001b[0m\u001b[0;34m]\u001b[0m\u001b[0;34m\u001b[0m\u001b[0;34m\u001b[0m\u001b[0m\n\u001b[0m\u001b[1;32m      2\u001b[0m \u001b[0;31m#display(topK)\u001b[0m\u001b[0;34m\u001b[0m\u001b[0;34m\u001b[0m\u001b[0;34m\u001b[0m\u001b[0m\n\u001b[1;32m      3\u001b[0m \u001b[0mtopK\u001b[0m \u001b[0;34m=\u001b[0m \u001b[0mtopK\u001b[0m\u001b[0;34m[\u001b[0m\u001b[0;34m:\u001b[0m\u001b[0;34m,\u001b[0m\u001b[0;34m:\u001b[0m\u001b[0;34m,\u001b[0m\u001b[0;36m1\u001b[0m\u001b[0;34m]\u001b[0m\u001b[0;34m.\u001b[0m\u001b[0mastype\u001b[0m\u001b[0;34m(\u001b[0m\u001b[0mint\u001b[0m\u001b[0;34m)\u001b[0m\u001b[0;34m\u001b[0m\u001b[0;34m\u001b[0m\u001b[0m\n\u001b[1;32m      4\u001b[0m \u001b[0;31m#display(topK)\u001b[0m\u001b[0;34m\u001b[0m\u001b[0;34m\u001b[0m\u001b[0;34m\u001b[0m\u001b[0m\n\u001b[1;32m      5\u001b[0m \u001b[0mY_pred\u001b[0m \u001b[0;34m=\u001b[0m \u001b[0mnp\u001b[0m\u001b[0;34m.\u001b[0m\u001b[0marray\u001b[0m\u001b[0;34m(\u001b[0m\u001b[0;34m[\u001b[0m\u001b[0;34m]\u001b[0m\u001b[0;34m)\u001b[0m\u001b[0;34m\u001b[0m\u001b[0;34m\u001b[0m\u001b[0m\n",
      "\u001b[0;31mNameError\u001b[0m: name 'Dist' is not defined"
     ]
    }
   ],
   "source": [
    "topK = Dist[:,0:k,:]\n",
    "#display(topK)\n",
    "topK = topK[:,:,1].astype(int)\n",
    "#display(topK)\n",
    "Y_pred = np.array([])\n",
    "for vector in topK:\n",
    "    counts = np.bincount(vector)\n",
    "    majority = np.argmax(counts)\n",
    "    Y_pred = np.append(Y_pred,majority)\n",
    "#display(Y_pred)\n",
    "#=sortDist = np.sort(sortDist, axis = 2)\n",
    "#display(sortDist)\n",
    "#sortDist = sorted(data, key=lambda x: x[1])\n",
    "from sklearn.metrics import accuracy_score\n",
    "y_true = Y_test\n",
    "display(y_true.shape)\n",
    "display(Y_pred.shape)\n",
    "display(accuracy_score(y_true, Y_pred))"
   ]
  },
  {
   "cell_type": "code",
   "execution_count": null,
   "metadata": {},
   "outputs": [],
   "source": [
    "def KNN(X_train,X_test,Y_train, k):\n",
    "    y_pred = np.array([])\n",
    "    for point in X_test:\n",
    "        dist = np.array([])\n",
    "        for row in X_train:\n",
    "            d = np.sqrt(np.sum((point-row)**2))\n",
    "            dist = np.append(dist, d)\n",
    "        attach = np.vstack((dist, Y_train))\n",
    "        sortDist = attach[:,attach[0].argsort()]\n",
    "        topK = sortDist[:,0:k]\n",
    "        topK = topK[1].astype(int)\n",
    "        counts = np.bincount(topK)\n",
    "        majority = np.argmax(counts)\n",
    "        y_pred = np.append(y_pred,majority)\n",
    "    return y_pred\n",
    "        \n",
    "    \"\"\"\n",
    "    :type X_train: numpy.ndarray\n",
    "    :type X_test: numpy.ndarray\n",
    "    :type Y_train: numpy.ndarray\n",
    "    ##NP.tile np.repeat\n",
    "    ##np.lin(norx)\n",
    "    ##creating a matrix with same test row repeating operation on entire train matrix\n",
    "    ##(A-B)^2 = A^2 - 2AB + B^2\n",
    "    ##cosine distance also an option\n",
    "    :rtype: numpy.ndarray\n",
    "    \"\"\""
   ]
  },
  {
   "cell_type": "code",
   "execution_count": null,
   "metadata": {},
   "outputs": [],
   "source": [
    "d = np.array([])\n",
    "d = np.append(d, 2)\n",
    "np.append(d, 3)"
   ]
  },
  {
   "cell_type": "code",
   "execution_count": null,
   "metadata": {},
   "outputs": [],
   "source": [
    "X_train.shape"
   ]
  },
  {
   "cell_type": "code",
   "execution_count": null,
   "metadata": {},
   "outputs": [],
   "source": [
    "X_test.shape"
   ]
  },
  {
   "cell_type": "code",
   "execution_count": null,
   "metadata": {},
   "outputs": [],
   "source": [
    "X_train **2"
   ]
  },
  {
   "cell_type": "code",
   "execution_count": null,
   "metadata": {},
   "outputs": [],
   "source": [
    "def RandomForest(X_train,Y_train,X_test):\n",
    "    \"\"\"\n",
    "    :type X_train: numpy.ndarray\n",
    "    :type X_test: numpy.ndarray\n",
    "    :type Y_train: numpy.ndarray\n",
    "    \n",
    "    :rtype: numpy.ndarray\n",
    "    \"\"\""
   ]
  },
  {
   "cell_type": "code",
   "execution_count": null,
   "metadata": {},
   "outputs": [],
   "source": []
  },
  {
   "cell_type": "markdown",
   "metadata": {},
   "source": [
    "# Start of PCA"
   ]
  },
  {
   "cell_type": "code",
   "execution_count": 87,
   "metadata": {},
   "outputs": [
    {
     "data": {
      "text/plain": [
       "array([[ 1,  2,  3],\n",
       "       [ 4,  5,  6],\n",
       "       [ 7,  8,  9],\n",
       "       [10, 11, 12]])"
      ]
     },
     "metadata": {},
     "output_type": "display_data"
    },
    {
     "data": {
      "text/plain": [
       "array([5.5, 6.5, 7.5])"
      ]
     },
     "metadata": {},
     "output_type": "display_data"
    },
    {
     "data": {
      "text/plain": [
       "(3,)"
      ]
     },
     "metadata": {},
     "output_type": "display_data"
    },
    {
     "data": {
      "text/plain": [
       "array([[-4.5, -4.5, -4.5],\n",
       "       [-1.5, -1.5, -1.5],\n",
       "       [ 1.5,  1.5,  1.5],\n",
       "       [ 4.5,  4.5,  4.5]])"
      ]
     },
     "metadata": {},
     "output_type": "display_data"
    },
    {
     "data": {
      "text/plain": [
       "6.5"
      ]
     },
     "metadata": {},
     "output_type": "display_data"
    },
    {
     "data": {
      "text/plain": [
       "0.0"
      ]
     },
     "metadata": {},
     "output_type": "display_data"
    }
   ],
   "source": [
    "#Demo of centering data (mean = 0)\n",
    "\n",
    "A = np.array([[1,2,3], [4,5,6], [7,8,9], [10, 11, 12]])\n",
    "display(A)\n",
    "\n",
    "mean = A.mean(axis=0)\n",
    "display(mean)\n",
    "display(mean.shape)\n",
    "\n",
    "new_A = A - mean\n",
    "# Or use newaxis:\n",
    "# new_A = A - mean[np.newaxis, :]\n",
    "\n",
    "display(new_A)\n",
    "\n",
    "display(A.mean())\n",
    "display(new_A.mean())"
   ]
  },
  {
   "cell_type": "code",
   "execution_count": 88,
   "metadata": {},
   "outputs": [
    {
     "data": {
      "text/plain": [
       "array([[-4.5, -4.5, -4.5],\n",
       "       [-1.5, -1.5, -1.5],\n",
       "       [ 1.5,  1.5,  1.5],\n",
       "       [ 4.5,  4.5,  4.5]])"
      ]
     },
     "metadata": {},
     "output_type": "display_data"
    },
    {
     "data": {
      "text/plain": [
       "array([3.35410197, 3.35410197, 3.35410197])"
      ]
     },
     "metadata": {},
     "output_type": "display_data"
    },
    {
     "data": {
      "text/plain": [
       "array([[-1.34164079, -1.34164079, -1.34164079],\n",
       "       [-0.4472136 , -0.4472136 , -0.4472136 ],\n",
       "       [ 0.4472136 ,  0.4472136 ,  0.4472136 ],\n",
       "       [ 1.34164079,  1.34164079,  1.34164079]])"
      ]
     },
     "metadata": {},
     "output_type": "display_data"
    }
   ],
   "source": [
    "#Demo of standardizing data (s.d. = 1)\n",
    "\n",
    "display(new_A)\n",
    "\n",
    "new_sd = np.std(new_A, axis=0)\n",
    "display(new_sd)\n",
    "\n",
    "newer_A = new_A / new_sd\n",
    "display(newer_A)"
   ]
  },
  {
   "cell_type": "code",
   "execution_count": 89,
   "metadata": {},
   "outputs": [
    {
     "data": {
      "text/plain": [
       "array([[0, 2],\n",
       "       [2, 0]])"
      ]
     },
     "metadata": {},
     "output_type": "display_data"
    },
    {
     "data": {
      "text/plain": [
       "array([[ 2., -2.],\n",
       "       [-2.,  2.]])"
      ]
     },
     "metadata": {},
     "output_type": "display_data"
    }
   ],
   "source": [
    "#Covariance matrix demo\n",
    "\n",
    "Z = np.array([[0, 2], [2, 0]])\n",
    "display(Z)\n",
    "cov = np.cov(Z)\n",
    "display(cov)"
   ]
  },
  {
   "cell_type": "code",
   "execution_count": 90,
   "metadata": {},
   "outputs": [
    {
     "data": {
      "text/plain": [
       "array([6., 2.])"
      ]
     },
     "metadata": {},
     "output_type": "display_data"
    },
    {
     "data": {
      "text/plain": [
       "array([[ 0.70710678, -0.31622777],\n",
       "       [ 0.70710678,  0.9486833 ]])"
      ]
     },
     "metadata": {},
     "output_type": "display_data"
    },
    {
     "data": {
      "text/plain": [
       "6.0"
      ]
     },
     "metadata": {},
     "output_type": "display_data"
    },
    {
     "data": {
      "text/plain": [
       "array([0.70710678, 0.70710678])"
      ]
     },
     "metadata": {},
     "output_type": "display_data"
    },
    {
     "data": {
      "text/plain": [
       "array([4.24264069, 4.24264069])"
      ]
     },
     "metadata": {},
     "output_type": "display_data"
    }
   ],
   "source": [
    "#Demo of eigendecomposition\n",
    "\n",
    "A = np.array([[5, 1],[3, 3]])\n",
    "\n",
    "e_vals, e_vects = np.linalg.eig(A)\n",
    "\n",
    "display(e_vals)\n",
    "display(e_vects)\n",
    "\n",
    "display(e_vals[0])\n",
    "display(e_vects[:, 0])\n",
    "e_recomp = e_vals[0] * e_vects[:, 0]\n",
    "display(e_recomp)"
   ]
  },
  {
   "cell_type": "code",
   "execution_count": 91,
   "metadata": {},
   "outputs": [
    {
     "data": {
      "text/plain": [
       "array([1, 8, 4])"
      ]
     },
     "metadata": {},
     "output_type": "display_data"
    },
    {
     "data": {
      "text/plain": [
       "array([[4, 8, 7],\n",
       "       [9, 5, 1],\n",
       "       [2, 2, 5]])"
      ]
     },
     "metadata": {},
     "output_type": "display_data"
    },
    {
     "data": {
      "text/plain": [
       "array([8, 4, 1])"
      ]
     },
     "metadata": {},
     "output_type": "display_data"
    },
    {
     "data": {
      "text/plain": [
       "array([[8, 7, 4],\n",
       "       [5, 1, 9],\n",
       "       [2, 5, 2]])"
      ]
     },
     "metadata": {},
     "output_type": "display_data"
    }
   ],
   "source": [
    "#Sorting eigenvectors based on eigenvalues\n",
    "\n",
    "eigenValues = np.array([1, 8, 4])\n",
    "eigenVectors = np.array([[4, 8, 7], [9, 5, 1], [2, 2, 5]])\n",
    "\n",
    "display(eigenValues)\n",
    "display(eigenVectors)\n",
    "\n",
    "idx = eigenValues.argsort()[::-1]   \n",
    "eigenValues = eigenValues[idx]\n",
    "eigenVectors = eigenVectors[:,idx]\n",
    "\n",
    "display(eigenValues)\n",
    "display(eigenVectors)"
   ]
  },
  {
   "cell_type": "code",
   "execution_count": 92,
   "metadata": {},
   "outputs": [
    {
     "data": {
      "text/plain": [
       "array([[4, 1],\n",
       "       [2, 2]])"
      ]
     },
     "metadata": {},
     "output_type": "display_data"
    }
   ],
   "source": [
    "#Calculate Z* = ZP*\n",
    "\n",
    "# Z_star = Z\n",
    "\n",
    "a = np.array([[1, 0], \n",
    "              [0, 1]])\n",
    "\n",
    "b = np.array([[4, 1], \n",
    "              [2, 2]])\n",
    "\n",
    "# display(np.dot(a, b))\n",
    "display(a @ b)\n",
    "\n",
    "# array([[4, 1],\n",
    "#        [2, 2]])"
   ]
  },
  {
   "cell_type": "code",
   "execution_count": 93,
   "metadata": {},
   "outputs": [
    {
     "data": {
      "text/plain": [
       "array([[1, 2],\n",
       "       [4, 5],\n",
       "       [7, 8]])"
      ]
     },
     "metadata": {},
     "output_type": "display_data"
    }
   ],
   "source": [
    "# Determine the top N features to keep\n",
    "N = 2\n",
    "\n",
    "M = np.array([[1, 2, 3], \n",
    "              [4, 5, 6], \n",
    "              [7, 8, 9]])\n",
    "topN = M[:, :N]\n",
    "display(topN)"
   ]
  },
  {
   "cell_type": "code",
   "execution_count": 95,
   "metadata": {},
   "outputs": [
    {
     "data": {
      "text/plain": [
       "'Top 2'"
      ]
     },
     "metadata": {},
     "output_type": "display_data"
    },
    {
     "data": {
      "text/plain": [
       "array([[ 0.02556754, -1.1025878 ],\n",
       "       [-0.62420487,  0.65975042],\n",
       "       [-0.67670795,  0.5008054 ],\n",
       "       [-0.07915438, -0.32351044],\n",
       "       [ 1.35449966,  0.26554243]])"
      ]
     },
     "metadata": {},
     "output_type": "display_data"
    }
   ],
   "source": [
    "#PRACTICE\n",
    "\n",
    "X_train = training[0:5, 0:5]\n",
    "# X_train = np.array([[1,2,3], [4,5,6], [7,8,9]])\n",
    "# display(X_train)\n",
    "N = 2\n",
    "\n",
    "#1) Center the data (mean=0) and standardize (standard deviation = 1) (call matrix Z)\n",
    "#Center data\n",
    "mean = X_train.mean(axis=0)\n",
    "# display(mean)\n",
    "# display(mean.shape)\n",
    "# centered_X = X_train - mean\n",
    "# Or use newaxis:\n",
    "center_X = X_train - mean[np.newaxis, :]\n",
    "# display(center_X)\n",
    "# display(X_train.mean())\n",
    "# display(center_X.mean())\n",
    "\n",
    "#Standardize data\n",
    "sd = np.std(center_X, axis=0)\n",
    "# display(sd)\n",
    "Z = center_X / sd\n",
    "# display(Z)\n",
    "\n",
    "#2) Find the covariance matrix of Z (Zt*Z)\n",
    "# display(Z)\n",
    "cov = np.cov(Z)\n",
    "# display(\"Cov:\", cov)\n",
    "\n",
    "#3) Using eigendecomposition, decompose (Zt*Z) into PDP^-1\n",
    "e_vals, e_vects = np.linalg.eig(cov)\n",
    "\n",
    "# display(\"Eigenvalues:\",e_vals)\n",
    "# display(\"Eigenvectors:\",e_vects)\n",
    "\n",
    "#4) Sort the eigenvectors by their corresponding eigenvalues from largest to smallest (call new matrix P*)\n",
    "# display(e_vals)\n",
    "# display(e_vects)\n",
    "\n",
    "idx = e_vals.argsort()[::-1]   \n",
    "e_vals = e_vals[idx]\n",
    "P_star = e_vects[:,idx]\n",
    "\n",
    "# display(\"Sorted Eigenvalues:\",e_vals)\n",
    "# display(\"Sorted Eigenvectors:\",P_star)\n",
    "\n",
    "#5) Calculate Z* = ZP* (new matrix Z* is a centered/standardized version of X's principle components)\n",
    "Z_star = Z @ P_star\n",
    "# display(\"Z*\",Z_star)\n",
    "\n",
    "#6) Determine the top N features to keep\n",
    "topN = Z_star[:, :N]\n",
    "display(\"Top \" + str(N),topN)"
   ]
  },
  {
   "cell_type": "code",
   "execution_count": 98,
   "metadata": {},
   "outputs": [
    {
     "data": {
      "text/plain": [
       "array([[-0.72265215, -0.29506562],\n",
       "       [-0.08732216, -0.9030335 ],\n",
       "       [ 1.59212297, -0.52080091],\n",
       "       [-0.90036662,  1.80928064],\n",
       "       [ 0.11821795, -0.09038062]])"
      ]
     },
     "metadata": {},
     "output_type": "display_data"
    }
   ],
   "source": [
    "from sklearn.decomposition import PCA as scikitPCA\n",
    "\n",
    "SK_train = training[0:5, 0:5]\n",
    "SK_test = testing[0:5, 0:5]\n",
    "\n",
    "# Center data\n",
    "mean1 = SK_train.mean(axis=0)\n",
    "center_X1 = SK_train - mean1[np.newaxis, :]\n",
    "\n",
    "mean2 = SK_test.mean(axis=0)\n",
    "center_X2 = SK_test - mean2[np.newaxis, :]\n",
    "\n",
    "#Standardize data\n",
    "sd1 = np.std(center_X1, axis=0)\n",
    "Z1 = center_X1 / sd1\n",
    "\n",
    "sd2 = np.std(center_X2, axis=0)\n",
    "Z2 = center_X2 / sd2\n",
    "\n",
    "pca = scikitPCA(n_components=N)\n",
    "pca.fit(Z1)\n",
    "\n",
    "reduced_dim = pca.transform(Z2)\n",
    "display(reduced_dim)"
   ]
  },
  {
   "cell_type": "code",
   "execution_count": null,
   "metadata": {},
   "outputs": [],
   "source": [
    "#Compare sklearn PCA with my PCA by making a scatter plot and plotting linear regression with the data \n",
    "#and see if it line up\n"
   ]
  },
  {
   "cell_type": "markdown",
   "metadata": {},
   "source": [
    "# PCA Code"
   ]
  },
  {
   "cell_type": "code",
   "execution_count": 122,
   "metadata": {},
   "outputs": [],
   "source": [
    "def PCA(X_train,N):\n",
    "    \"\"\"\n",
    "    :type X_train: numpy.ndarray\n",
    "    :type N: int\n",
    "    :rtype: numpy.ndarray\n",
    "    \"\"\"\n",
    "    \n",
    "    #1) Center the data (mean=0) and standardize (standard deviation = 1) (call matrix Z)\n",
    "    \n",
    "    #Center the data\n",
    "    mean = X_train.mean(axis=0)\n",
    "    center_X = X_train - mean[np.newaxis, :]\n",
    "    \n",
    "    #Standardize the data\n",
    "    sd = np.std(center_X, axis=0)\n",
    "    Z = center_X / sd\n",
    "    \n",
    "    print(\"Z\\n\", Z)\n",
    "    \n",
    "    #2) Find the covariance matrix of Z (Zt*Z)\n",
    "    cov = np.cov(Z)\n",
    "    print(\"Cov\\n\", cov)\n",
    "    \n",
    "    \n",
    "    #3) Using eigendecomposition, decompose (Zt*Z) into PDP^-1\n",
    "    #Where P = matrix of eigenvectors, D = vector of eigenvalues which corresponds to P\n",
    "    e_vals, e_vects = np.linalg.eig(cov)\n",
    "    print(\"E Vals\\n\", e_vals)\n",
    "    display(\"E Vects\\n\", e_vects)\n",
    "    \n",
    "    \n",
    "    #4) Sort the eigenvectors by their corresponding eigenvalues from largest to smallest (call new matrix P*)\n",
    "    #May be unnecessary is eigenvalues/vectors are return in descending order\n",
    "    idx = e_vals.argsort()[::-1]   \n",
    "    e_vals = e_vals[idx]\n",
    "    P_star = e_vects[:,idx]\n",
    "   \n",
    "    \n",
    "    #5) Calculate Z* = ZP* (new matrix Z* is a centered/standardized version of X's principle components)\n",
    "    #Eigenvectors are the directions, Eigenvalues are the magnitudes/importance\n",
    "    \n",
    "    print(\"P star\\n\", P_star)\n",
    "    \n",
    "    Z_star = Z @ P_star\n",
    "    \n",
    "    \n",
    "    #6) Determine the top N features to keep\n",
    "    topN = Z_star[:, :N]\n",
    "    return topN"
   ]
  },
  {
   "cell_type": "code",
   "execution_count": 123,
   "metadata": {},
   "outputs": [],
   "source": [
    "#Verify acccuracy with sklearn PCA\n",
    "\n",
    "X_train = training[0:5, 0:4]\n",
    "# display(X_train)\n",
    "N = 2"
   ]
  },
  {
   "cell_type": "code",
   "execution_count": 124,
   "metadata": {},
   "outputs": [
    {
     "name": "stdout",
     "output_type": "stream",
     "text": [
      "Z\n",
      " [[-0.61453985 -1.54741    -1.60667    -1.272262  ]\n",
      " [-1.32318208 -0.64096935  1.28667276  0.47457659]\n",
      " [ 0.34315138  0.89749029  0.38967687  1.63662452]\n",
      " [ 1.65822937  0.1181901  -0.58656847 -0.16879324]\n",
      " [-0.06365882  1.17269897  0.51688884 -0.67014586]]\n",
      "Cov\n",
      " [[ 0.20651786 -0.37391838 -0.06363149  0.4139975  -0.18296548]\n",
      " [-0.37391838  1.34403665  0.13816405 -1.01764297 -0.09063934]\n",
      " [-0.06363149  0.13816405  0.36180011 -0.22121985 -0.21511282]\n",
      " [ 0.4139975  -1.01764297 -0.22121985  0.95853584 -0.13367052]\n",
      " [-0.18296548 -0.09063934 -0.21511282 -0.13367052  0.62238817]]\n",
      "E Vals\n",
      " [ 2.36429760e+00  7.97268111e-01  3.31712914e-01  5.44757560e-17\n",
      " -1.05254891e-17]\n"
     ]
    },
    {
     "data": {
      "text/plain": [
       "'E Vects\\n'"
      ]
     },
     "metadata": {},
     "output_type": "display_data"
    },
    {
     "data": {
      "text/plain": [
       "array([[-0.25147671,  0.2260612 ,  0.22136728,  0.39476684, -0.08347953],\n",
       "       [ 0.72925046,  0.14356756,  0.4602129 , -0.4121983 , -0.48548791],\n",
       "       [ 0.12495451,  0.38213829, -0.792739  , -0.33897599, -0.44901052],\n",
       "       [-0.62362096,  0.12395554,  0.28425751, -0.71633037, -0.63699835],\n",
       "       [ 0.0208927 , -0.87572258, -0.1730987 , -0.21498322, -0.38724065]])"
      ]
     },
     "metadata": {},
     "output_type": "display_data"
    },
    {
     "name": "stdout",
     "output_type": "stream",
     "text": [
      "P star\n",
      " [[-0.25147671  0.2260612   0.22136728  0.39476684 -0.08347953]\n",
      " [ 0.72925046  0.14356756  0.4602129  -0.4121983  -0.48548791]\n",
      " [ 0.12495451  0.38213829 -0.792739   -0.33897599 -0.44901052]\n",
      " [-0.62362096  0.12395554  0.28425751 -0.71633037 -0.63699835]\n",
      " [ 0.0208927  -0.87572258 -0.1730987  -0.21498322 -0.38724065]]\n"
     ]
    },
    {
     "ename": "ValueError",
     "evalue": "matmul: Input operand 1 has a mismatch in its core dimension 0, with gufunc signature (n?,k),(k,m?)->(n?,m?) (size 5 is different from 4)",
     "output_type": "error",
     "traceback": [
      "\u001b[0;31m---------------------------------------------------------------------------\u001b[0m",
      "\u001b[0;31mValueError\u001b[0m                                Traceback (most recent call last)",
      "\u001b[0;32m<ipython-input-124-0ac70d55fa6d>\u001b[0m in \u001b[0;36m<module>\u001b[0;34m\u001b[0m\n\u001b[1;32m      1\u001b[0m \u001b[0;31m#My PCA Implementation\u001b[0m\u001b[0;34m\u001b[0m\u001b[0;34m\u001b[0m\u001b[0;34m\u001b[0m\u001b[0m\n\u001b[1;32m      2\u001b[0m \u001b[0;34m\u001b[0m\u001b[0m\n\u001b[0;32m----> 3\u001b[0;31m \u001b[0mtopNFeatures\u001b[0m \u001b[0;34m=\u001b[0m \u001b[0mPCA\u001b[0m\u001b[0;34m(\u001b[0m\u001b[0mX_train\u001b[0m\u001b[0;34m,\u001b[0m \u001b[0mN\u001b[0m\u001b[0;34m)\u001b[0m\u001b[0;34m\u001b[0m\u001b[0;34m\u001b[0m\u001b[0m\n\u001b[0m\u001b[1;32m      4\u001b[0m \u001b[0mdisplay\u001b[0m\u001b[0;34m(\u001b[0m\u001b[0mtopNFeatures\u001b[0m\u001b[0;34m)\u001b[0m\u001b[0;34m\u001b[0m\u001b[0;34m\u001b[0m\u001b[0m\n",
      "\u001b[0;32m<ipython-input-122-87df30a77abf>\u001b[0m in \u001b[0;36mPCA\u001b[0;34m(X_train, N)\u001b[0m\n\u001b[1;32m     42\u001b[0m     \u001b[0mprint\u001b[0m\u001b[0;34m(\u001b[0m\u001b[0;34m\"P star\\n\"\u001b[0m\u001b[0;34m,\u001b[0m \u001b[0mP_star\u001b[0m\u001b[0;34m)\u001b[0m\u001b[0;34m\u001b[0m\u001b[0;34m\u001b[0m\u001b[0m\n\u001b[1;32m     43\u001b[0m \u001b[0;34m\u001b[0m\u001b[0m\n\u001b[0;32m---> 44\u001b[0;31m     \u001b[0mZ_star\u001b[0m \u001b[0;34m=\u001b[0m \u001b[0mZ\u001b[0m \u001b[0;34m@\u001b[0m \u001b[0mP_star\u001b[0m\u001b[0;34m\u001b[0m\u001b[0;34m\u001b[0m\u001b[0m\n\u001b[0m\u001b[1;32m     45\u001b[0m \u001b[0;34m\u001b[0m\u001b[0m\n\u001b[1;32m     46\u001b[0m \u001b[0;34m\u001b[0m\u001b[0m\n",
      "\u001b[0;31mValueError\u001b[0m: matmul: Input operand 1 has a mismatch in its core dimension 0, with gufunc signature (n?,k),(k,m?)->(n?,m?) (size 5 is different from 4)"
     ]
    }
   ],
   "source": [
    "#My PCA Implementation\n",
    "\n",
    "topNFeatures = PCA(X_train, N)\n",
    "display(topNFeatures)"
   ]
  },
  {
   "cell_type": "code",
   "execution_count": 111,
   "metadata": {},
   "outputs": [
    {
     "data": {
      "text/plain": [
       "array([[ 2.19795133e-04,  1.35643687e-05],\n",
       "       [-1.73510350e-04,  2.44402975e-05],\n",
       "       [-5.40918472e-05, -1.32436364e-05],\n",
       "       [ 7.93379906e-05, -8.14143714e-06],\n",
       "       [-7.15309265e-05, -1.66195927e-05]])"
      ]
     },
     "metadata": {},
     "output_type": "display_data"
    }
   ],
   "source": [
    "from sklearn.decomposition import PCA as scikitPCA\n",
    "\n",
    "#Center data\n",
    "mean = X_train.mean(axis=0)\n",
    "center_X = X_train - mean[np.newaxis, :]\n",
    "\n",
    "# #Standardize data\n",
    "sd = np.std(center_X, axis=0)\n",
    "Z = center_X / sd\n",
    "# display(Z)\n",
    "\n",
    "Z = X_train\n",
    "\n",
    "pca = scikitPCA(n_components=N)\n",
    "pca.fit(Z)\n",
    "\n",
    "reduced_dim = pca.transform(Z)\n",
    "\n",
    "display(reduced_dim)\n",
    "\n",
    "# display(X_train.shape)\n",
    "# display(reduced_dim.shape)\n",
    "\n",
    "# display(pca.explained_variance_ratio_)\n",
    "# display(pca.singular_values_)\n",
    "# display(pca.get_covariance())\n",
    "# display(pca.get_params())\n",
    "\n",
    "# display(np.transpose(pca.components_))\n",
    "# display(pca.components_)"
   ]
  },
  {
   "cell_type": "code",
   "execution_count": 27,
   "metadata": {},
   "outputs": [],
   "source": [
    "# from sklearn.metrics import accuracy_score\n",
    "# accuracy_score(reduced_dim, topNFeatures)"
   ]
  },
  {
   "cell_type": "code",
   "execution_count": 28,
   "metadata": {},
   "outputs": [],
   "source": [
    "#PLOT the centroids and the randomly generated data\n",
    "%matplotlib inline\n",
    "import matplotlib.pyplot as plt"
   ]
  },
  {
   "cell_type": "code",
   "execution_count": 29,
   "metadata": {},
   "outputs": [
    {
     "data": {
      "image/png": "[encoded data removed]",
      "text/plain": [
       "<Figure size 432x288 with 1 Axes>"
      ]
     },
     "metadata": {
      "needs_background": "light"
     },
     "output_type": "display_data"
    }
   ],
   "source": [
    "plt.scatter(reduced_dim[:, 0], reduced_dim[:, 1], color='black', s=200, alpha=0.25);\n",
    "topNFeatures = topNFeatures/100\n",
    "# display(topNFeatures)\n",
    "plt.scatter(topNFeatures[:, 0], topNFeatures[:, 1], color='green', s=200, alpha=0.25);\n",
    "\n",
    "plt.axis([np.min(topNFeatures[:, 0]), np.max(topNFeatures[:, 0]), np.min(topNFeatures[:, 1]), np.max(topNFeatures[:, 1])]);"
   ]
  },
  {
   "cell_type": "markdown",
   "metadata": {},
   "source": [
    "# K MEANS"
   ]
  },
  {
   "cell_type": "code",
   "execution_count": 3,
   "metadata": {},
   "outputs": [
    {
     "data": {
      "text/plain": [
       "(100, 2)"
      ]
     },
     "metadata": {},
     "output_type": "display_data"
    }
   ],
   "source": [
    "# A = X_train[0:5, 0:5]\n",
    "# A = np.array([[4, 8, 7], [9, 5, 1], [2, 2, 5], [1, 3, 6], [2, 3, 6], [3, 3, 6], [4, 3, 6], [5, 3, 6]])\n",
    "A = np.random.randint(0, 20, size=(100, 2))\n",
    "# display(A)\n",
    "display(A.shape)\n",
    "N = 3"
   ]
  },
  {
   "cell_type": "code",
   "execution_count": 4,
   "metadata": {},
   "outputs": [
    {
     "data": {
      "text/plain": [
       "array([[11,  6],\n",
       "       [19,  0],\n",
       "       [14,  9]])"
      ]
     },
     "metadata": {},
     "output_type": "display_data"
    }
   ],
   "source": [
    "#2) Randomly finds samples without replacement\n",
    "\n",
    "rand_idx = np.random.choice(A.shape[0], N, replace=False)\n",
    "# display(rand_idx)\n",
    "\n",
    "#Displays the random points\n",
    "centroids = np.array([A[rand_idx[i], :] for i in range(len(rand_idx))]) \n",
    "display(centroids)"
   ]
  },
  {
   "cell_type": "code",
   "execution_count": 25,
   "metadata": {},
   "outputs": [],
   "source": [
    "#3) Reassign all points to the closest centroid\n",
    "\n",
    "cent_labels = np.array([])\n",
    "# display(cent_labels)\n",
    "\n",
    "#loops through each of the points\n",
    "for i in range(A.shape[0]):\n",
    "    closest_cent = 0\n",
    "    \n",
    "    #by default smallest_dist computes the dist b/t current point and first centroid\n",
    "    smallest_dist = euclidean_dist(A[i, :], centroids[0, :])\n",
    "    \n",
    "    #loops through each of the centroids, find the closest centroid the current point\n",
    "    for j in range(centroids.shape[0]):\n",
    "        current_dist = euclidean_dist(A[i, :], centroids[j, :])\n",
    "        if current_dist < smallest_dist:\n",
    "            smallest_dist = current_dist\n",
    "            closest_cent = j\n",
    "            \n",
    "    #adds the current centroid to the list\n",
    "    cent_labels = np.append(cent_labels, closest_cent)"
   ]
  },
  {
   "cell_type": "code",
   "execution_count": 7,
   "metadata": {},
   "outputs": [
    {
     "ename": "NameError",
     "evalue": "name 'cent_labels' is not defined",
     "output_type": "error",
     "traceback": [
      "\u001b[0;31m---------------------------------------------------------------------------\u001b[0m",
      "\u001b[0;31mNameError\u001b[0m                                 Traceback (most recent call last)",
      "\u001b[0;32m<ipython-input-7-b74d2aefd248>\u001b[0m in \u001b[0;36m<module>\u001b[0;34m\u001b[0m\n\u001b[1;32m      4\u001b[0m \u001b[0;34m\u001b[0m\u001b[0m\n\u001b[1;32m      5\u001b[0m \u001b[0;32mfor\u001b[0m \u001b[0mi\u001b[0m \u001b[0;32min\u001b[0m \u001b[0mrange\u001b[0m\u001b[0;34m(\u001b[0m\u001b[0mA\u001b[0m\u001b[0;34m.\u001b[0m\u001b[0mshape\u001b[0m\u001b[0;34m[\u001b[0m\u001b[0;36m0\u001b[0m\u001b[0;34m]\u001b[0m\u001b[0;34m)\u001b[0m\u001b[0;34m:\u001b[0m\u001b[0;34m\u001b[0m\u001b[0;34m\u001b[0m\u001b[0m\n\u001b[0;32m----> 6\u001b[0;31m     \u001b[0;32mif\u001b[0m \u001b[0mcent_labels\u001b[0m\u001b[0;34m[\u001b[0m\u001b[0mi\u001b[0m\u001b[0;34m]\u001b[0m \u001b[0;34m==\u001b[0m \u001b[0;36m0\u001b[0m\u001b[0;34m:\u001b[0m\u001b[0;34m\u001b[0m\u001b[0;34m\u001b[0m\u001b[0m\n\u001b[0m\u001b[1;32m      7\u001b[0m         \u001b[0mplt\u001b[0m\u001b[0;34m.\u001b[0m\u001b[0mscatter\u001b[0m\u001b[0;34m(\u001b[0m\u001b[0mA\u001b[0m\u001b[0;34m[\u001b[0m\u001b[0mi\u001b[0m\u001b[0;34m,\u001b[0m \u001b[0;36m0\u001b[0m\u001b[0;34m]\u001b[0m\u001b[0;34m,\u001b[0m \u001b[0mA\u001b[0m\u001b[0;34m[\u001b[0m\u001b[0mi\u001b[0m\u001b[0;34m,\u001b[0m \u001b[0;36m1\u001b[0m\u001b[0;34m]\u001b[0m\u001b[0;34m,\u001b[0m \u001b[0mcolor\u001b[0m\u001b[0;34m=\u001b[0m\u001b[0;34m\"r\"\u001b[0m\u001b[0;34m,\u001b[0m \u001b[0ms\u001b[0m\u001b[0;34m=\u001b[0m\u001b[0;36m50\u001b[0m\u001b[0;34m)\u001b[0m\u001b[0;34m;\u001b[0m\u001b[0;34m\u001b[0m\u001b[0;34m\u001b[0m\u001b[0m\n\u001b[1;32m      8\u001b[0m     \u001b[0;32melif\u001b[0m \u001b[0mcent_labels\u001b[0m\u001b[0;34m[\u001b[0m\u001b[0mi\u001b[0m\u001b[0;34m]\u001b[0m \u001b[0;34m==\u001b[0m \u001b[0;36m1\u001b[0m\u001b[0;34m:\u001b[0m\u001b[0;34m\u001b[0m\u001b[0;34m\u001b[0m\u001b[0m\n",
      "\u001b[0;31mNameError\u001b[0m: name 'cent_labels' is not defined"
     ]
    }
   ],
   "source": [
    "#PLOT the centroids and the randomly generated data\n",
    "%matplotlib inline\n",
    "import matplotlib.pyplot as plt\n",
    "\n",
    "for i in range(A.shape[0]):\n",
    "    if cent_labels[i] == 0:\n",
    "        plt.scatter(A[i, 0], A[i, 1], color=\"r\", s=50);\n",
    "    elif cent_labels[i] == 1:\n",
    "        plt.scatter(A[i, 0], A[i, 1], color=\"b\", s=50);\n",
    "    elif cent_labels[i] == 2:\n",
    "        plt.scatter(A[i, 0], A[i, 1], color=\"g\", s=50);\n",
    "#     elif cent_labels[i] == 3:\n",
    "#         plt.scatter(A[i, 0], A[i, 1], color=\"o\", s=50);\n",
    "#     elif cent_labels[i] == 4:\n",
    "#         plt.scatter(A[i, 0], A[i, 1], color=\"p\", s=50);\n",
    "        \n",
    "plt.scatter(centroids[:, 0], centroids[:, 1], color='black', s=200, alpha=0.25);"
   ]
  },
  {
   "cell_type": "code",
   "execution_count": 55,
   "metadata": {},
   "outputs": [
    {
     "data": {
      "text/plain": [
       "(100,)"
      ]
     },
     "metadata": {},
     "output_type": "display_data"
    },
    {
     "data": {
      "text/plain": [
       "(3,)"
      ]
     },
     "metadata": {},
     "output_type": "display_data"
    },
    {
     "data": {
      "text/plain": [
       "(3, 1)"
      ]
     },
     "metadata": {},
     "output_type": "display_data"
    },
    {
     "data": {
      "text/plain": [
       "(100, 1)"
      ]
     },
     "metadata": {},
     "output_type": "display_data"
    },
    {
     "data": {
      "text/plain": [
       "array([[232, 394],\n",
       "       [122,  12],\n",
       "       [562, 579]])"
      ]
     },
     "metadata": {},
     "output_type": "display_data"
    },
    {
     "data": {
      "text/plain": [
       "array([[ 4.64      ,  7.88      ],\n",
       "       [17.42857143,  1.71428571],\n",
       "       [13.06976744, 13.46511628]])"
      ]
     },
     "metadata": {},
     "output_type": "display_data"
    }
   ],
   "source": [
    "#4) Recalculate centroid coordinate based on point assignment\n",
    "#New centroid value is the average of all point that currently have that centroid's label\n",
    "\n",
    "# combined = np.append(A, cent_labels, axis=1)\n",
    "# display(centroids)\n",
    "# display(combined)\n",
    "# display(A)\n",
    "\n",
    "# labels = combined[:, combined.shape[1]-1]\n",
    "labels = cent_labels\n",
    "display(labels.shape)\n",
    "\n",
    "#reshapes cent_labels\n",
    "# labels = cent_labels.reshape((cent_labels.shape[0],1))\n",
    "# display(labels)\n",
    "\n",
    "#loop through the data summing the data by label and then dividing by the total occurances of that label\n",
    "\n",
    "# hist = np.histogram([0, 1, 2, 1], bins=[0, 1, 2, 3])\n",
    "# display(hist)\n",
    "\n",
    "# sorted_combined = combined[np.argsort(combined[:, combined.shape[1]-1])]\n",
    "# display(sorted_combined)\n",
    "\n",
    "labels = cent_labels.astype(int)\n",
    "# display(labels)\n",
    "\n",
    "#sum up occurances of each label using bincount\n",
    "label_counts = np.bincount(labels)\n",
    "display(label_counts.shape)\n",
    "# display(label_counts)\n",
    "\n",
    "#reshape labels counts\n",
    "label_counts = label_counts.reshape((label_counts.shape[0],1))\n",
    "display(label_counts.shape)\n",
    "\n",
    "#reshape labels\n",
    "labels = labels.reshape((labels.shape[0],1))\n",
    "display(labels.shape)\n",
    "# display(labels)\n",
    "\n",
    "#sum up all of points by label\n",
    "point_sums = np.zeros((3,2), dtype=int)\n",
    "# display(point_sums)\n",
    "\n",
    "for i in range(labels.shape[0]):\n",
    "    if labels[i] == 0:\n",
    "        point_sums[0, 0] += A[i,0]\n",
    "        point_sums[0, 1] += A[i,1]\n",
    "    if labels[i] == 1:\n",
    "        point_sums[1, 0] += A[i,0]\n",
    "        point_sums[1, 1] += A[i,1]\n",
    "    if labels[i] == 2:\n",
    "        point_sums[2, 0] += A[i,0]\n",
    "        point_sums[2, 1] += A[i,1]\n",
    "\n",
    "display(point_sums)\n",
    "\n",
    "#get a new centroids by dividing point sums by the label occurances\n",
    "new_centroids = np.divide(point_sums, label_counts)\n",
    "# display(centroids)\n",
    "display(new_centroids)"
   ]
  },
  {
   "cell_type": "code",
   "execution_count": 48,
   "metadata": {},
   "outputs": [
    {
     "ename": "NameError",
     "evalue": "name 'cent_labels' is not defined",
     "output_type": "error",
     "traceback": [
      "\u001b[0;31m---------------------------------------------------------------------------\u001b[0m",
      "\u001b[0;31mNameError\u001b[0m                                 Traceback (most recent call last)",
      "\u001b[0;32m<ipython-input-48-932e9c52ccad>\u001b[0m in \u001b[0;36m<module>\u001b[0;34m\u001b[0m\n\u001b[1;32m      1\u001b[0m \u001b[0;32mfor\u001b[0m \u001b[0mi\u001b[0m \u001b[0;32min\u001b[0m \u001b[0mrange\u001b[0m\u001b[0;34m(\u001b[0m\u001b[0mA\u001b[0m\u001b[0;34m.\u001b[0m\u001b[0mshape\u001b[0m\u001b[0;34m[\u001b[0m\u001b[0;36m0\u001b[0m\u001b[0;34m]\u001b[0m\u001b[0;34m)\u001b[0m\u001b[0;34m:\u001b[0m\u001b[0;34m\u001b[0m\u001b[0;34m\u001b[0m\u001b[0m\n\u001b[0;32m----> 2\u001b[0;31m     \u001b[0;32mif\u001b[0m \u001b[0mcent_labels\u001b[0m\u001b[0;34m[\u001b[0m\u001b[0mi\u001b[0m\u001b[0;34m]\u001b[0m \u001b[0;34m==\u001b[0m \u001b[0;36m0\u001b[0m\u001b[0;34m:\u001b[0m\u001b[0;34m\u001b[0m\u001b[0;34m\u001b[0m\u001b[0m\n\u001b[0m\u001b[1;32m      3\u001b[0m         \u001b[0mplt\u001b[0m\u001b[0;34m.\u001b[0m\u001b[0mscatter\u001b[0m\u001b[0;34m(\u001b[0m\u001b[0mA\u001b[0m\u001b[0;34m[\u001b[0m\u001b[0mi\u001b[0m\u001b[0;34m,\u001b[0m \u001b[0;36m0\u001b[0m\u001b[0;34m]\u001b[0m\u001b[0;34m,\u001b[0m \u001b[0mA\u001b[0m\u001b[0;34m[\u001b[0m\u001b[0mi\u001b[0m\u001b[0;34m,\u001b[0m \u001b[0;36m1\u001b[0m\u001b[0;34m]\u001b[0m\u001b[0;34m,\u001b[0m \u001b[0mcolor\u001b[0m\u001b[0;34m=\u001b[0m\u001b[0;34m\"r\"\u001b[0m\u001b[0;34m,\u001b[0m \u001b[0ms\u001b[0m\u001b[0;34m=\u001b[0m\u001b[0;36m50\u001b[0m\u001b[0;34m)\u001b[0m\u001b[0;34m;\u001b[0m\u001b[0;34m\u001b[0m\u001b[0;34m\u001b[0m\u001b[0m\n\u001b[1;32m      4\u001b[0m     \u001b[0;32melif\u001b[0m \u001b[0mcent_labels\u001b[0m\u001b[0;34m[\u001b[0m\u001b[0mi\u001b[0m\u001b[0;34m]\u001b[0m \u001b[0;34m==\u001b[0m \u001b[0;36m1\u001b[0m\u001b[0;34m:\u001b[0m\u001b[0;34m\u001b[0m\u001b[0;34m\u001b[0m\u001b[0m\n\u001b[1;32m      5\u001b[0m         \u001b[0mplt\u001b[0m\u001b[0;34m.\u001b[0m\u001b[0mscatter\u001b[0m\u001b[0;34m(\u001b[0m\u001b[0mA\u001b[0m\u001b[0;34m[\u001b[0m\u001b[0mi\u001b[0m\u001b[0;34m,\u001b[0m \u001b[0;36m0\u001b[0m\u001b[0;34m]\u001b[0m\u001b[0;34m,\u001b[0m \u001b[0mA\u001b[0m\u001b[0;34m[\u001b[0m\u001b[0mi\u001b[0m\u001b[0;34m,\u001b[0m \u001b[0;36m1\u001b[0m\u001b[0;34m]\u001b[0m\u001b[0;34m,\u001b[0m \u001b[0mcolor\u001b[0m\u001b[0;34m=\u001b[0m\u001b[0;34m\"b\"\u001b[0m\u001b[0;34m,\u001b[0m \u001b[0ms\u001b[0m\u001b[0;34m=\u001b[0m\u001b[0;36m50\u001b[0m\u001b[0;34m)\u001b[0m\u001b[0;34m;\u001b[0m\u001b[0;34m\u001b[0m\u001b[0;34m\u001b[0m\u001b[0m\n",
      "\u001b[0;31mNameError\u001b[0m: name 'cent_labels' is not defined"
     ]
    }
   ],
   "source": [
    "for i in range(A.shape[0]):\n",
    "    if cent_labels[i] == 0:\n",
    "        plt.scatter(A[i, 0], A[i, 1], color=\"r\", s=50);\n",
    "    elif cent_labels[i] == 1:\n",
    "        plt.scatter(A[i, 0], A[i, 1], color=\"b\", s=50);\n",
    "    elif cent_labels[i] == 2:\n",
    "        plt.scatter(A[i, 0], A[i, 1], color=\"g\", s=50);\n",
    "        \n",
    "plt.scatter(centroids[:, 0], centroids[:, 1], color='black', s=200, alpha=0.25);\n",
    "plt.scatter(new_centroids[:, 0], new_centroids[:, 1], color='purple', s=200, alpha=0.25);"
   ]
  },
  {
   "cell_type": "code",
   "execution_count": 65,
   "metadata": {},
   "outputs": [],
   "source": [
    "#HELPER FUNCTION to calculate Euclidean distance between 2 points\n",
    "def euclidean_dist(pointA, pointB):\n",
    "    dist = np.sqrt(np.sum((pointA-pointB)**2))\n",
    "    return dist\n",
    "\n",
    "#Dist TEST\n",
    "# p1 = centroids[1, :]\n",
    "# p2 = centroids[2, :]\n",
    "\n",
    "# p1 = np.array([1, 2, 3])\n",
    "# p2 = np.array([4, 4, 5])\n",
    "\n",
    "# display(euclidean_dist(p1, p2))"
   ]
  },
  {
   "cell_type": "code",
   "execution_count": 6,
   "metadata": {
    "scrolled": true
   },
   "outputs": [
    {
     "data": {
      "text/plain": [
       "array([[779, 683],\n",
       "       [650, 734],\n",
       "       [584, 890],\n",
       "       [ 90,  42],\n",
       "       [301,  41],\n",
       "       [546, 455],\n",
       "       [311, 489],\n",
       "       [274,  72],\n",
       "       [403, 633],\n",
       "       [ 32, 791]])"
      ]
     },
     "metadata": {},
     "output_type": "display_data"
    },
    {
     "data": {
      "image/png": "[encoded data removed]",
      "text/plain": [
       "<Figure size 432x288 with 1 Axes>"
      ]
     },
     "metadata": {
      "needs_background": "light"
     },
     "output_type": "display_data"
    },
    {
     "data": {
      "text/plain": [
       "array([[842.7       , 722.4       ],\n",
       "       [650.        , 698.83333333],\n",
       "       [498.5       , 914.6       ],\n",
       "       [ 66.14285714, 178.28571429],\n",
       "       [513.        ,  66.33333333],\n",
       "       [747.59090909, 285.63636364],\n",
       "       [253.        , 428.05882353],\n",
       "       [276.5       , 153.83333333],\n",
       "       [391.3       , 691.1       ],\n",
       "       [156.        , 807.77777778]])"
      ]
     },
     "metadata": {},
     "output_type": "display_data"
    },
    {
     "data": {
      "image/png": "[encoded data removed]",
      "text/plain": [
       "<Figure size 432x288 with 1 Axes>"
      ]
     },
     "metadata": {
      "needs_background": "light"
     },
     "output_type": "display_data"
    },
    {
     "data": {
      "text/plain": [
       "array([[865.5       , 831.5       ],\n",
       "       [658.9       , 680.8       ],\n",
       "       [446.125     , 896.5       ],\n",
       "       [ 66.14285714, 178.28571429],\n",
       "       [628.        ,  97.        ],\n",
       "       [778.75      , 269.55      ],\n",
       "       [246.75      , 436.5625    ],\n",
       "       [289.125     , 157.        ],\n",
       "       [419.66666667, 644.11111111],\n",
       "       [181.45454545, 825.        ]])"
      ]
     },
     "metadata": {},
     "output_type": "display_data"
    },
    {
     "data": {
      "image/png": "[encoded data removed]",
      "text/plain": [
       "<Figure size 432x288 with 1 Axes>"
      ]
     },
     "metadata": {
      "needs_background": "light"
     },
     "output_type": "display_data"
    },
    {
     "data": {
      "text/plain": [
       "array([[877.85714286, 852.71428571],\n",
       "       [665.91666667, 662.58333333],\n",
       "       [428.44444444, 905.33333333],\n",
       "       [ 66.14285714, 178.28571429],\n",
       "       [615.25      , 142.        ],\n",
       "       [813.47058824, 247.        ],\n",
       "       [246.75      , 436.5625    ],\n",
       "       [289.125     , 157.        ],\n",
       "       [432.3       , 625.2       ],\n",
       "       [170.9       , 809.9       ]])"
      ]
     },
     "metadata": {},
     "output_type": "display_data"
    },
    {
     "data": {
      "image/png": "[encoded data removed]",
      "text/plain": [
       "<Figure size 432x288 with 1 Axes>"
      ]
     },
     "metadata": {
      "needs_background": "light"
     },
     "output_type": "display_data"
    },
    {
     "data": {
      "text/plain": [
       "array([[877.85714286, 852.71428571],\n",
       "       [670.46153846, 646.23076923],\n",
       "       [428.44444444, 905.33333333],\n",
       "       [ 66.14285714, 178.28571429],\n",
       "       [600.2       , 182.8       ],\n",
       "       [837.6       , 226.86666667],\n",
       "       [246.75      , 436.5625    ],\n",
       "       [289.125     , 157.        ],\n",
       "       [432.3       , 625.2       ],\n",
       "       [170.9       , 809.9       ]])"
      ]
     },
     "metadata": {},
     "output_type": "display_data"
    },
    {
     "data": {
      "image/png": "[encoded data removed]",
      "text/plain": [
       "<Figure size 432x288 with 1 Axes>"
      ]
     },
     "metadata": {
      "needs_background": "light"
     },
     "output_type": "display_data"
    },
    {
     "data": {
      "text/plain": [
       "array([[852.        , 852.875     ],\n",
       "       [668.07692308, 612.61538462],\n",
       "       [428.44444444, 905.33333333],\n",
       "       [ 66.14285714, 178.28571429],\n",
       "       [558.        , 225.25      ],\n",
       "       [846.2       , 199.93333333],\n",
       "       [246.75      , 436.5625    ],\n",
       "       [289.125     , 157.        ],\n",
       "       [432.3       , 625.2       ],\n",
       "       [170.9       , 809.9       ]])"
      ]
     },
     "metadata": {},
     "output_type": "display_data"
    },
    {
     "data": {
      "image/png": "[encoded data removed]",
      "text/plain": [
       "<Figure size 432x288 with 1 Axes>"
      ]
     },
     "metadata": {
      "needs_background": "light"
     },
     "output_type": "display_data"
    },
    {
     "data": {
      "text/plain": [
       "array([[852.        , 852.875     ],\n",
       "       [659.35714286, 601.35714286],\n",
       "       [428.44444444, 905.33333333],\n",
       "       [ 66.14285714, 178.28571429],\n",
       "       [558.        , 225.25      ],\n",
       "       [846.2       , 199.93333333],\n",
       "       [246.75      , 436.5625    ],\n",
       "       [289.125     , 157.        ],\n",
       "       [419.66666667, 644.11111111],\n",
       "       [170.9       , 809.9       ]])"
      ]
     },
     "metadata": {},
     "output_type": "display_data"
    },
    {
     "data": {
      "image/png": "[encoded data removed]",
      "text/plain": [
       "<Figure size 432x288 with 1 Axes>"
      ]
     },
     "metadata": {
      "needs_background": "light"
     },
     "output_type": "display_data"
    },
    {
     "data": {
      "text/plain": [
       "array([[852.        , 852.875     ],\n",
       "       [659.35714286, 601.35714286],\n",
       "       [428.44444444, 905.33333333],\n",
       "       [ 66.14285714, 178.28571429],\n",
       "       [558.        , 225.25      ],\n",
       "       [846.2       , 199.93333333],\n",
       "       [246.75      , 436.5625    ],\n",
       "       [289.125     , 157.        ],\n",
       "       [419.66666667, 644.11111111],\n",
       "       [170.9       , 809.9       ]])"
      ]
     },
     "metadata": {},
     "output_type": "display_data"
    },
    {
     "data": {
      "image/png": "[encoded data removed]",
      "text/plain": [
       "<Figure size 432x288 with 1 Axes>"
      ]
     },
     "metadata": {
      "needs_background": "light"
     },
     "output_type": "display_data"
    },
    {
     "data": {
      "text/plain": [
       "array([[852.        , 852.875     ],\n",
       "       [659.35714286, 601.35714286],\n",
       "       [428.44444444, 905.33333333],\n",
       "       [ 66.14285714, 178.28571429],\n",
       "       [558.        , 225.25      ],\n",
       "       [846.2       , 199.93333333],\n",
       "       [246.75      , 436.5625    ],\n",
       "       [289.125     , 157.        ],\n",
       "       [419.66666667, 644.11111111],\n",
       "       [170.9       , 809.9       ]])"
      ]
     },
     "metadata": {},
     "output_type": "display_data"
    },
    {
     "data": {
      "image/png": "[encoded data removed]",
      "text/plain": [
       "<Figure size 432x288 with 1 Axes>"
      ]
     },
     "metadata": {
      "needs_background": "light"
     },
     "output_type": "display_data"
    },
    {
     "data": {
      "text/plain": [
       "array([[852.        , 852.875     ],\n",
       "       [659.35714286, 601.35714286],\n",
       "       [428.44444444, 905.33333333],\n",
       "       [ 66.14285714, 178.28571429],\n",
       "       [558.        , 225.25      ],\n",
       "       [846.2       , 199.93333333],\n",
       "       [246.75      , 436.5625    ],\n",
       "       [289.125     , 157.        ],\n",
       "       [419.66666667, 644.11111111],\n",
       "       [170.9       , 809.9       ]])"
      ]
     },
     "metadata": {},
     "output_type": "display_data"
    },
    {
     "data": {
      "image/png": "[encoded data removed]",
      "text/plain": [
       "<Figure size 432x288 with 1 Axes>"
      ]
     },
     "metadata": {
      "needs_background": "light"
     },
     "output_type": "display_data"
    }
   ],
   "source": [
    "#PUTTING IT ALL TOGETHER\n",
    "\n",
    "#PLOT the centroids and the randomly generated data\n",
    "%matplotlib inline\n",
    "import matplotlib.pyplot as plt\n",
    "\n",
    "#1) Choose the number of clusters (K = N)\n",
    "A = np.random.randint(0, 1000, size=(100, 2))\n",
    "# display(A)\n",
    "N = 10\n",
    "    \n",
    "#2) Initialize N centroids to \"random\" values of the data,\n",
    "rand_idx = np.random.choice(A.shape[0], N, replace=False)\n",
    "centroids = np.array([A[rand_idx[i], :] for i in range(len(rand_idx))])\n",
    "\n",
    "#Generates N random colors\n",
    "c=np.random.rand(N,3)\n",
    "\n",
    "iterations = 10\n",
    "\n",
    "for it in range(iterations):\n",
    "    labels = np.array([])\n",
    "#     display(centroids)\n",
    "    \n",
    "    #3) Reassign all points to the closest centroid\n",
    "    #Calculate Euclidean distance between each point and each centroid, assign each point to the min dist centroid\n",
    "\n",
    "    #loops through each of the points\n",
    "    for i in range(A.shape[0]):\n",
    "        closest_cent = 0\n",
    "    \n",
    "        #by default smallest_dist computes the dist b/t current point and first centroid\n",
    "        smallest_dist = euclidean_dist(A[i, :], centroids[0, :])\n",
    "    \n",
    "        #loops through each of the centroids, find the closest centroid the current point\n",
    "        for j in range(centroids.shape[0]):\n",
    "            current_dist = euclidean_dist(A[i, :], centroids[j, :])\n",
    "            if current_dist < smallest_dist:\n",
    "                smallest_dist = current_dist\n",
    "                closest_cent = j\n",
    "            \n",
    "        #adds the current centroid to the list\n",
    "        labels = np.append(labels, closest_cent)\n",
    "    \n",
    "    #reshapes labels\n",
    "    # labels = labels.reshape((labels.shape[0],1))\n",
    "    # display(labels)\n",
    "\n",
    "    #4) Recalculate centroid coordinate based on point assignment\n",
    "    #New centroid value is the average of all point that currently have that centroid's label\n",
    "#     display(labels.shape)\n",
    "\n",
    "    labels = labels.astype(int)\n",
    "    # display(labels)\n",
    "\n",
    "    #sum up occurances of each label using bincount\n",
    "    label_counts = np.bincount(labels)\n",
    "    # display(label_counts.shape)\n",
    "    # display(label_counts)\n",
    "\n",
    "    #reshape labels counts\n",
    "    label_counts = label_counts.reshape((label_counts.shape[0],1))\n",
    "    # display(label_counts.shape)\n",
    "\n",
    "    #reshape labels\n",
    "    labels = labels.reshape((labels.shape[0],1))\n",
    "    # display(labels.shape)\n",
    "    # display(labels)\n",
    "\n",
    "    #sum up all of points by label\n",
    "    point_sums = np.zeros((N,2), dtype=int)\n",
    "    # display(point_sums)\n",
    "\n",
    "    for i in range(labels.shape[0]):\n",
    "        \n",
    "        for j in range(centroids.shape[0]):\n",
    "            if labels[i] == j:\n",
    "                point_sums[j, 0] += A[i,0]\n",
    "                point_sums[j, 1] += A[i,1]\n",
    "\n",
    "#         if labels[i] == 0:\n",
    "#             point_sums[0, 0] += A[i,0]\n",
    "#             point_sums[0, 1] += A[i,1]\n",
    "#         if labels[i] == 1:\n",
    "#             point_sums[1, 0] += A[i,0]\n",
    "#             point_sums[1, 1] += A[i,1]\n",
    "#         if labels[i] == 2:\n",
    "#             point_sums[2, 0] += A[i,0]\n",
    "#             point_sums[2, 1] += A[i,1]\n",
    "\n",
    "#     display(point_sums)\n",
    "\n",
    "    #get a new centroids by dividing point sums by the label occurances\n",
    "    new_centroids = np.divide(point_sums, label_counts)\n",
    "    \n",
    "    display(centroids)\n",
    "    \n",
    "    for i in range(A.shape[0]):\n",
    "        \n",
    "        for j in range(centroids.shape[0]):\n",
    "            if labels[i] == j:\n",
    "                plt.scatter(A[i, 0], A[i, 1], color=c[j], s=50);\n",
    "        \n",
    "#         if labels[i] == 0:\n",
    "#             plt.scatter(A[i, 0], A[i, 1], color=c[0], s=50);\n",
    "#         elif labels[i] == 1:\n",
    "#             plt.scatter(A[i, 0], A[i, 1], color=c[1], s=50);\n",
    "#         elif labels[i] == 2:\n",
    "#             plt.scatter(A[i, 0], A[i, 1], color=c[2], s=50);\n",
    "        \n",
    "    plt.scatter(centroids[:, 0], centroids[:, 1], color='orange', s=200, alpha=1, marker=\"*\");\n",
    "    plt.scatter(new_centroids[:, 0], new_centroids[:, 1], color='black', s=200, alpha=0.75, marker=\"*\");\n",
    "#     plt.pause(0.05)\n",
    "    plt.show()\n",
    "    \n",
    "    centroids = new_centroids\n",
    "#     display(new_centroids)"
   ]
  },
  {
   "cell_type": "code",
   "execution_count": 85,
   "metadata": {},
   "outputs": [],
   "source": [
    "def Kmeans(X_train,N):\n",
    "    \"\"\"\n",
    "    :type X_train: numpy.ndarray\n",
    "    :type N: int\n",
    "    :rtype: List[numpy.ndarray]\n",
    "    \"\"\"\n",
    "    \n",
    "    #1) Initialize N centroids to \"random\" values of the data,\n",
    "\n",
    "    #Choose random indices based on the bounds of the data\n",
    "    rand_idx = np.random.choice(X_train.shape[0], N, replace=False)\n",
    "    centroids = np.array([X_train[rand_idx[i], :] for i in range(len(rand_idx))])\n",
    "    \n",
    "    #Generates N random colors\n",
    "    c=np.random.rand(N,3)\n",
    "\n",
    "    it = 0\n",
    "    max_iterations = 20\n",
    "    old_centroids = np.zeros((N, X_train.shape[1]))\n",
    "\n",
    "    while not(np.array_equal(centroids, old_centroids)) and it < max_iterations:\n",
    "#         print(\"Iteration =\", it)\n",
    "        labels = np.array([])\n",
    "        old_centroids = centroids\n",
    "    \n",
    "        #2) Reassign all points to the closest centroid\n",
    "\n",
    "        #loops through each of the points\n",
    "        for i in range(X_train.shape[0]):\n",
    "            closest_cent = 0\n",
    "    \n",
    "            #by default smallest_dist computes the dist b/t current point and first centroid\n",
    "            smallest_dist = euclidean_dist(X_train[i, :], centroids[0, :])\n",
    "    \n",
    "            #loops through each of the centroids, find the closest centroid the current point\n",
    "            for j in range(centroids.shape[0]):\n",
    "                current_dist = euclidean_dist(X_train[i, :], centroids[j, :])\n",
    "                if current_dist < smallest_dist:\n",
    "                    smallest_dist = current_dist\n",
    "                    closest_cent = j\n",
    "            \n",
    "            #adds the current centroid to the list\n",
    "            labels = np.append(labels, closest_cent)\n",
    "        \n",
    "        #3) Recalculate centroid coordinate based on point assignment\n",
    "        \n",
    "        #sum up occurances of each label using bincount\n",
    "        labels = labels.astype(int)\n",
    "        label_counts = np.bincount(labels)\n",
    "\n",
    "        #reshape labels counts\n",
    "        label_counts = label_counts.reshape((label_counts.shape[0],1))\n",
    "\n",
    "        #reshape labels\n",
    "        labels = labels.reshape((labels.shape[0],1))\n",
    "        \n",
    "        #sum up all of points by label\n",
    "        point_sums = np.zeros((N,2), dtype=int)\n",
    "\n",
    "        for i in range(labels.shape[0]):\n",
    "            for j in range(centroids.shape[0]):\n",
    "                if labels[i] == j:\n",
    "                    point_sums[j, 0] += X_train[i,0]\n",
    "                    point_sums[j, 1] += X_train[i,1]\n",
    "\n",
    "        #get a new centroids by dividing point sums by the label occurances\n",
    "        new_centroids = np.divide(point_sums, label_counts)\n",
    "        \n",
    "#         new_centroids = np.array([X[labels == i].mean(0)\n",
    "#                                 for i in range(n_clusters)])\n",
    "        \n",
    "        for i in range(X_train.shape[0]):\n",
    "            for j in range(centroids.shape[0]):\n",
    "                if labels[i] == j:\n",
    "                    plt.scatter(X_train[i, 0], X_train[i, 1], color=c[j], s=50);\n",
    "        \n",
    "#         plt.scatter(centroids[:, 0], centroids[:, 1], color='orange', s=200, alpha=1, marker=\"*\");\n",
    "#         plt.scatter(new_centroids[:, 0], new_centroids[:, 1], color='black', s=200, alpha=0.75, marker=\"*\");\n",
    "#         plt.show()\n",
    "    \n",
    "        centroids = new_centroids\n",
    "        \n",
    "#         print(\"Centroids\")\n",
    "#         display(centroids)\n",
    "#         print(\"Old Centroids\")\n",
    "#         display(old_centroids)\n",
    "        \n",
    "        it += 1\n",
    "        \n",
    "    print(\"Iterations:\", it)\n",
    "    plt.scatter(centroids[:, 0], centroids[:, 1], color='black', s=200, alpha=1, marker=\"*\");\n",
    "    plt.show()\n",
    "    return centroids"
   ]
  },
  {
   "cell_type": "code",
   "execution_count": 86,
   "metadata": {},
   "outputs": [
    {
     "data": {
      "text/plain": [
       "array([[0, 0],\n",
       "       [0, 0],\n",
       "       [0, 0],\n",
       "       [0, 0]])"
      ]
     },
     "metadata": {},
     "output_type": "display_data"
    },
    {
     "data": {
      "text/plain": [
       "array([[0, 0],\n",
       "       [0, 0],\n",
       "       [0, 0],\n",
       "       [0, 0]])"
      ]
     },
     "metadata": {},
     "output_type": "display_data"
    },
    {
     "data": {
      "text/plain": [
       "array([[0, 0],\n",
       "       [0, 0],\n",
       "       [0, 0],\n",
       "       [0, 0]])"
      ]
     },
     "metadata": {},
     "output_type": "display_data"
    },
    {
     "data": {
      "text/plain": [
       "array([[0, 0],\n",
       "       [0, 0],\n",
       "       [0, 0],\n",
       "       [0, 0]])"
      ]
     },
     "metadata": {},
     "output_type": "display_data"
    },
    {
     "data": {
      "text/plain": [
       "array([[0, 0],\n",
       "       [0, 0],\n",
       "       [0, 0],\n",
       "       [0, 0]])"
      ]
     },
     "metadata": {},
     "output_type": "display_data"
    },
    {
     "data": {
      "text/plain": [
       "array([[0, 0],\n",
       "       [0, 0],\n",
       "       [0, 0],\n",
       "       [0, 0]])"
      ]
     },
     "metadata": {},
     "output_type": "display_data"
    },
    {
     "data": {
      "text/plain": [
       "array([[0, 0],\n",
       "       [0, 0],\n",
       "       [0, 0],\n",
       "       [0, 0]])"
      ]
     },
     "metadata": {},
     "output_type": "display_data"
    },
    {
     "data": {
      "text/plain": [
       "array([[0, 0],\n",
       "       [0, 0],\n",
       "       [0, 0],\n",
       "       [0, 0]])"
      ]
     },
     "metadata": {},
     "output_type": "display_data"
    },
    {
     "data": {
      "text/plain": [
       "array([[0, 0],\n",
       "       [0, 0],\n",
       "       [0, 0],\n",
       "       [0, 0]])"
      ]
     },
     "metadata": {},
     "output_type": "display_data"
    },
    {
     "data": {
      "text/plain": [
       "array([[0, 0],\n",
       "       [0, 0],\n",
       "       [0, 0],\n",
       "       [0, 0]])"
      ]
     },
     "metadata": {},
     "output_type": "display_data"
    },
    {
     "data": {
      "text/plain": [
       "array([[0, 0],\n",
       "       [0, 0],\n",
       "       [0, 0],\n",
       "       [0, 0]])"
      ]
     },
     "metadata": {},
     "output_type": "display_data"
    },
    {
     "data": {
      "text/plain": [
       "array([[0, 0],\n",
       "       [0, 0],\n",
       "       [0, 0],\n",
       "       [0, 0]])"
      ]
     },
     "metadata": {},
     "output_type": "display_data"
    },
    {
     "data": {
      "text/plain": [
       "array([[0, 0],\n",
       "       [0, 0],\n",
       "       [0, 0],\n",
       "       [0, 0]])"
      ]
     },
     "metadata": {},
     "output_type": "display_data"
    },
    {
     "data": {
      "text/plain": [
       "array([[0, 0],\n",
       "       [0, 0],\n",
       "       [0, 0],\n",
       "       [0, 0]])"
      ]
     },
     "metadata": {},
     "output_type": "display_data"
    },
    {
     "name": "stdout",
     "output_type": "stream",
     "text": [
      "Iterations: 14\n"
     ]
    },
    {
     "data": {
      "image/png": "[encoded data removed]",
      "text/plain": [
       "<Figure size 432x288 with 1 Axes>"
      ]
     },
     "metadata": {
      "needs_background": "light"
     },
     "output_type": "display_data"
    },
    {
     "data": {
      "text/plain": [
       "array([[-0.89333333,  7.22666667],\n",
       "       [-1.11267606,  2.32394366],\n",
       "       [ 0.4       ,  3.875     ],\n",
       "       [ 1.48648649,  0.33783784]])"
      ]
     },
     "metadata": {},
     "output_type": "display_data"
    }
   ],
   "source": [
    "from sklearn.datasets.samples_generator import make_blobs\n",
    "N = 4\n",
    "\n",
    "X, y_true = make_blobs(n_samples=300, centers=N,\n",
    "                       cluster_std=0.60, random_state=0)\n",
    "plt.scatter(X[:, 0], X[:, 1], s=50);\n",
    "\n",
    "# X = np.random.randint(0, 1000, size=(100, 2))\n",
    "\n",
    "display(Kmeans(X,N))"
   ]
  },
  {
   "cell_type": "code",
   "execution_count": null,
   "metadata": {},
   "outputs": [],
   "source": [
    "def SklearnSupervisedLearning(X_train,Y_train,X_test):\n",
    "    \"\"\"\n",
    "    :type X_train: numpy.ndarray\n",
    "    :type X_test: numpy.ndarray\n",
    "    :type Y_train: numpy.ndarray\n",
    "    \n",
    "    :rtype: List[numpy.ndarray] \n",
    "    \"\"\"\n",
    "\""
   ]
  },
  {
   "cell_type": "code",
   "execution_count": null,
   "metadata": {},
   "outputs": [],
   "source": [
    "def SklearnVotingClassifier(X_train,Y_train,X_test):\n",
    "    \n",
    "    \"\"\"\n",
    "    :type X_train: numpy.ndarray\n",
    "    :type X_test: numpy.ndarray\n",
    "    :type Y_train: numpy.ndarray\n",
    "    \n",
    "    :rtype: List[numpy.ndarray] \n",
    "    \"\"\"\n",
    "\n",
    "\n",
    "\"\"\"\n",
    "Create your own custom functions for Matplotlib visualization of hyperparameter search. \n",
    "Make sure that plots are labeled and proper legends are used\n",
    "\"\""
   ]
  }
 ],
 "metadata": {
  "kernelspec": {
   "display_name": "Python 3",
   "language": "python",
   "name": "python3"
  },
  "language_info": {
   "codemirror_mode": {
    "name": "ipython",
    "version": 3
   },
   "file_extension": ".py",
   "mimetype": "text/x-python",
   "name": "python",
   "nbconvert_exporter": "python",
   "pygments_lexer": "ipython3",
   "version": "3.8.1"
  }
 },
 "nbformat": 4,
 "nbformat_minor": 2
}
